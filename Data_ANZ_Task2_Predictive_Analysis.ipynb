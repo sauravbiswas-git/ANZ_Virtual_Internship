{
  "nbformat": 4,
  "nbformat_minor": 0,
  "metadata": {
    "colab": {
      "name": "Data@ANZ_Task2_Predictive_Analysis.ipynb",
      "provenance": [],
      "collapsed_sections": [],
      "history_visible": true
    },
    "kernelspec": {
      "name": "python3",
      "display_name": "Python 3"
    }
  },
  "cells": [
    {
      "cell_type": "markdown",
      "metadata": {
        "id": "vjbGDhuR50Z2"
      },
      "source": [
        "**Importing necessary modules**"
      ]
    },
    {
      "cell_type": "code",
      "metadata": {
        "id": "mACNZe-o5Xv-"
      },
      "source": [
        "import numpy as np\r\n",
        "import pandas as pd\r\n",
        "import matplotlib.pyplot as plt\r\n",
        "% matplotlib inline\r\n",
        "import seaborn as sns\r\n",
        "import math\r\n",
        "import warnings\r\n",
        "warnings.filterwarnings(\"ignore\")"
      ],
      "execution_count": 1,
      "outputs": []
    },
    {
      "cell_type": "markdown",
      "metadata": {
        "id": "f0ndScsc6FJr"
      },
      "source": [
        "**Load Dataset & put it on pandas dataframe**\r\n",
        "\r\n",
        "Mounting Drive into the Colab meaning that setting up the google drive account as a virtual drive so that i can access the resources of the drive just like a local hard drive.\r\n",
        "\r\n"
      ]
    },
    {
      "cell_type": "code",
      "metadata": {
        "colab": {
          "base_uri": "https://localhost:8080/",
          "height": 804
        },
        "id": "b3Lg4AZd5-te",
        "outputId": "90ad49b4-686d-42de-9eef-21a87c3c7cc4"
      },
      "source": [
        "data = pd.read_excel('/content/ANZ synthesised transaction dataset.xlsx')\r\n",
        "data.head(10)"
      ],
      "execution_count": 2,
      "outputs": [
        {
          "output_type": "execute_result",
          "data": {
            "text/html": [
              "<div>\n",
              "<style scoped>\n",
              "    .dataframe tbody tr th:only-of-type {\n",
              "        vertical-align: middle;\n",
              "    }\n",
              "\n",
              "    .dataframe tbody tr th {\n",
              "        vertical-align: top;\n",
              "    }\n",
              "\n",
              "    .dataframe thead th {\n",
              "        text-align: right;\n",
              "    }\n",
              "</style>\n",
              "<table border=\"1\" class=\"dataframe\">\n",
              "  <thead>\n",
              "    <tr style=\"text-align: right;\">\n",
              "      <th></th>\n",
              "      <th>status</th>\n",
              "      <th>card_present_flag</th>\n",
              "      <th>bpay_biller_code</th>\n",
              "      <th>account</th>\n",
              "      <th>currency</th>\n",
              "      <th>long_lat</th>\n",
              "      <th>txn_description</th>\n",
              "      <th>merchant_id</th>\n",
              "      <th>merchant_code</th>\n",
              "      <th>first_name</th>\n",
              "      <th>balance</th>\n",
              "      <th>date</th>\n",
              "      <th>gender</th>\n",
              "      <th>age</th>\n",
              "      <th>merchant_suburb</th>\n",
              "      <th>merchant_state</th>\n",
              "      <th>extraction</th>\n",
              "      <th>amount</th>\n",
              "      <th>transaction_id</th>\n",
              "      <th>country</th>\n",
              "      <th>customer_id</th>\n",
              "      <th>merchant_long_lat</th>\n",
              "      <th>movement</th>\n",
              "    </tr>\n",
              "  </thead>\n",
              "  <tbody>\n",
              "    <tr>\n",
              "      <th>0</th>\n",
              "      <td>authorized</td>\n",
              "      <td>1.0</td>\n",
              "      <td>NaN</td>\n",
              "      <td>ACC-1598451071</td>\n",
              "      <td>AUD</td>\n",
              "      <td>153.41 -27.95</td>\n",
              "      <td>POS</td>\n",
              "      <td>81c48296-73be-44a7-befa-d053f48ce7cd</td>\n",
              "      <td>NaN</td>\n",
              "      <td>Diana</td>\n",
              "      <td>35.39</td>\n",
              "      <td>2018-08-01</td>\n",
              "      <td>F</td>\n",
              "      <td>26</td>\n",
              "      <td>Ashmore</td>\n",
              "      <td>QLD</td>\n",
              "      <td>2018-08-01T01:01:15.000+0000</td>\n",
              "      <td>16.25</td>\n",
              "      <td>a623070bfead4541a6b0fff8a09e706c</td>\n",
              "      <td>Australia</td>\n",
              "      <td>CUS-2487424745</td>\n",
              "      <td>153.38 -27.99</td>\n",
              "      <td>debit</td>\n",
              "    </tr>\n",
              "    <tr>\n",
              "      <th>1</th>\n",
              "      <td>authorized</td>\n",
              "      <td>0.0</td>\n",
              "      <td>NaN</td>\n",
              "      <td>ACC-1598451071</td>\n",
              "      <td>AUD</td>\n",
              "      <td>153.41 -27.95</td>\n",
              "      <td>SALES-POS</td>\n",
              "      <td>830a451c-316e-4a6a-bf25-e37caedca49e</td>\n",
              "      <td>NaN</td>\n",
              "      <td>Diana</td>\n",
              "      <td>21.20</td>\n",
              "      <td>2018-08-01</td>\n",
              "      <td>F</td>\n",
              "      <td>26</td>\n",
              "      <td>Sydney</td>\n",
              "      <td>NSW</td>\n",
              "      <td>2018-08-01T01:13:45.000+0000</td>\n",
              "      <td>14.19</td>\n",
              "      <td>13270a2a902145da9db4c951e04b51b9</td>\n",
              "      <td>Australia</td>\n",
              "      <td>CUS-2487424745</td>\n",
              "      <td>151.21 -33.87</td>\n",
              "      <td>debit</td>\n",
              "    </tr>\n",
              "    <tr>\n",
              "      <th>2</th>\n",
              "      <td>authorized</td>\n",
              "      <td>1.0</td>\n",
              "      <td>NaN</td>\n",
              "      <td>ACC-1222300524</td>\n",
              "      <td>AUD</td>\n",
              "      <td>151.23 -33.94</td>\n",
              "      <td>POS</td>\n",
              "      <td>835c231d-8cdf-4e96-859d-e9d571760cf0</td>\n",
              "      <td>NaN</td>\n",
              "      <td>Michael</td>\n",
              "      <td>5.71</td>\n",
              "      <td>2018-08-01</td>\n",
              "      <td>M</td>\n",
              "      <td>38</td>\n",
              "      <td>Sydney</td>\n",
              "      <td>NSW</td>\n",
              "      <td>2018-08-01T01:26:15.000+0000</td>\n",
              "      <td>6.42</td>\n",
              "      <td>feb79e7ecd7048a5a36ec889d1a94270</td>\n",
              "      <td>Australia</td>\n",
              "      <td>CUS-2142601169</td>\n",
              "      <td>151.21 -33.87</td>\n",
              "      <td>debit</td>\n",
              "    </tr>\n",
              "    <tr>\n",
              "      <th>3</th>\n",
              "      <td>authorized</td>\n",
              "      <td>1.0</td>\n",
              "      <td>NaN</td>\n",
              "      <td>ACC-1037050564</td>\n",
              "      <td>AUD</td>\n",
              "      <td>153.10 -27.66</td>\n",
              "      <td>SALES-POS</td>\n",
              "      <td>48514682-c78a-4a88-b0da-2d6302e64673</td>\n",
              "      <td>NaN</td>\n",
              "      <td>Rhonda</td>\n",
              "      <td>2117.22</td>\n",
              "      <td>2018-08-01</td>\n",
              "      <td>F</td>\n",
              "      <td>40</td>\n",
              "      <td>Buderim</td>\n",
              "      <td>QLD</td>\n",
              "      <td>2018-08-01T01:38:45.000+0000</td>\n",
              "      <td>40.90</td>\n",
              "      <td>2698170da3704fd981b15e64a006079e</td>\n",
              "      <td>Australia</td>\n",
              "      <td>CUS-1614226872</td>\n",
              "      <td>153.05 -26.68</td>\n",
              "      <td>debit</td>\n",
              "    </tr>\n",
              "    <tr>\n",
              "      <th>4</th>\n",
              "      <td>authorized</td>\n",
              "      <td>1.0</td>\n",
              "      <td>NaN</td>\n",
              "      <td>ACC-1598451071</td>\n",
              "      <td>AUD</td>\n",
              "      <td>153.41 -27.95</td>\n",
              "      <td>SALES-POS</td>\n",
              "      <td>b4e02c10-0852-4273-b8fd-7b3395e32eb0</td>\n",
              "      <td>NaN</td>\n",
              "      <td>Diana</td>\n",
              "      <td>17.95</td>\n",
              "      <td>2018-08-01</td>\n",
              "      <td>F</td>\n",
              "      <td>26</td>\n",
              "      <td>Mermaid Beach</td>\n",
              "      <td>QLD</td>\n",
              "      <td>2018-08-01T01:51:15.000+0000</td>\n",
              "      <td>3.25</td>\n",
              "      <td>329adf79878c4cf0aeb4188b4691c266</td>\n",
              "      <td>Australia</td>\n",
              "      <td>CUS-2487424745</td>\n",
              "      <td>153.44 -28.06</td>\n",
              "      <td>debit</td>\n",
              "    </tr>\n",
              "    <tr>\n",
              "      <th>5</th>\n",
              "      <td>posted</td>\n",
              "      <td>NaN</td>\n",
              "      <td>NaN</td>\n",
              "      <td>ACC-1608363396</td>\n",
              "      <td>AUD</td>\n",
              "      <td>151.22 -33.87</td>\n",
              "      <td>PAYMENT</td>\n",
              "      <td>NaN</td>\n",
              "      <td>NaN</td>\n",
              "      <td>Robert</td>\n",
              "      <td>1705.43</td>\n",
              "      <td>2018-08-01</td>\n",
              "      <td>M</td>\n",
              "      <td>20</td>\n",
              "      <td>NaN</td>\n",
              "      <td>NaN</td>\n",
              "      <td>2018-08-01T02:00:00.000+0000</td>\n",
              "      <td>163.00</td>\n",
              "      <td>1005b48a6eda4ffd85e9b649dc9467d3</td>\n",
              "      <td>Australia</td>\n",
              "      <td>CUS-2688605418</td>\n",
              "      <td>NaN</td>\n",
              "      <td>debit</td>\n",
              "    </tr>\n",
              "    <tr>\n",
              "      <th>6</th>\n",
              "      <td>authorized</td>\n",
              "      <td>1.0</td>\n",
              "      <td>NaN</td>\n",
              "      <td>ACC-2776252858</td>\n",
              "      <td>AUD</td>\n",
              "      <td>144.95 -37.76</td>\n",
              "      <td>SALES-POS</td>\n",
              "      <td>3aa18033-a0a9-4190-a117-b7caaf4d07e3</td>\n",
              "      <td>NaN</td>\n",
              "      <td>Kristin</td>\n",
              "      <td>1248.36</td>\n",
              "      <td>2018-08-01</td>\n",
              "      <td>F</td>\n",
              "      <td>43</td>\n",
              "      <td>Kalkallo</td>\n",
              "      <td>VIC</td>\n",
              "      <td>2018-08-01T02:23:04.000+0000</td>\n",
              "      <td>61.06</td>\n",
              "      <td>b79ca208099c4c28aa5dae966096d842</td>\n",
              "      <td>Australia</td>\n",
              "      <td>CUS-4123612273</td>\n",
              "      <td>144.95 -37.53</td>\n",
              "      <td>debit</td>\n",
              "    </tr>\n",
              "    <tr>\n",
              "      <th>7</th>\n",
              "      <td>authorized</td>\n",
              "      <td>1.0</td>\n",
              "      <td>NaN</td>\n",
              "      <td>ACC-2776252858</td>\n",
              "      <td>AUD</td>\n",
              "      <td>144.95 -37.76</td>\n",
              "      <td>POS</td>\n",
              "      <td>ee58145d-26e8-4b01-9cd9-62378014f21d</td>\n",
              "      <td>NaN</td>\n",
              "      <td>Kristin</td>\n",
              "      <td>1232.75</td>\n",
              "      <td>2018-08-01</td>\n",
              "      <td>F</td>\n",
              "      <td>43</td>\n",
              "      <td>Melbourne</td>\n",
              "      <td>VIC</td>\n",
              "      <td>2018-08-01T04:11:25.000+0000</td>\n",
              "      <td>15.61</td>\n",
              "      <td>e1c4a50d6a0549cbb3710a62a2fa00d5</td>\n",
              "      <td>Australia</td>\n",
              "      <td>CUS-4123612273</td>\n",
              "      <td>144.96 -37.81</td>\n",
              "      <td>debit</td>\n",
              "    </tr>\n",
              "    <tr>\n",
              "      <th>8</th>\n",
              "      <td>authorized</td>\n",
              "      <td>1.0</td>\n",
              "      <td>NaN</td>\n",
              "      <td>ACC-182446574</td>\n",
              "      <td>AUD</td>\n",
              "      <td>116.06 -32.00</td>\n",
              "      <td>POS</td>\n",
              "      <td>cfbf535e-caa8-499f-9d41-bbdc2b836d85</td>\n",
              "      <td>NaN</td>\n",
              "      <td>Tonya</td>\n",
              "      <td>213.16</td>\n",
              "      <td>2018-08-01</td>\n",
              "      <td>F</td>\n",
              "      <td>27</td>\n",
              "      <td>Yokine</td>\n",
              "      <td>WA</td>\n",
              "      <td>2018-08-01T04:40:00.000+0000</td>\n",
              "      <td>19.25</td>\n",
              "      <td>799e39eb2c1b411185424b0f2cd18bda</td>\n",
              "      <td>Australia</td>\n",
              "      <td>CUS-3026014945</td>\n",
              "      <td>115.85 -31.9</td>\n",
              "      <td>debit</td>\n",
              "    </tr>\n",
              "    <tr>\n",
              "      <th>9</th>\n",
              "      <td>posted</td>\n",
              "      <td>NaN</td>\n",
              "      <td>NaN</td>\n",
              "      <td>ACC-602667573</td>\n",
              "      <td>AUD</td>\n",
              "      <td>151.23 -33.96</td>\n",
              "      <td>INTER BANK</td>\n",
              "      <td>NaN</td>\n",
              "      <td>NaN</td>\n",
              "      <td>Michael</td>\n",
              "      <td>466.58</td>\n",
              "      <td>2018-08-01</td>\n",
              "      <td>M</td>\n",
              "      <td>40</td>\n",
              "      <td>NaN</td>\n",
              "      <td>NaN</td>\n",
              "      <td>2018-08-01T06:00:00.000+0000</td>\n",
              "      <td>21.00</td>\n",
              "      <td>798a77869014441b840a7a8a23408332</td>\n",
              "      <td>Australia</td>\n",
              "      <td>CUS-2031327464</td>\n",
              "      <td>NaN</td>\n",
              "      <td>debit</td>\n",
              "    </tr>\n",
              "  </tbody>\n",
              "</table>\n",
              "</div>"
            ],
            "text/plain": [
              "       status  card_present_flag  ... merchant_long_lat movement\n",
              "0  authorized                1.0  ...     153.38 -27.99    debit\n",
              "1  authorized                0.0  ...     151.21 -33.87    debit\n",
              "2  authorized                1.0  ...     151.21 -33.87    debit\n",
              "3  authorized                1.0  ...     153.05 -26.68    debit\n",
              "4  authorized                1.0  ...     153.44 -28.06    debit\n",
              "5      posted                NaN  ...               NaN    debit\n",
              "6  authorized                1.0  ...     144.95 -37.53    debit\n",
              "7  authorized                1.0  ...     144.96 -37.81    debit\n",
              "8  authorized                1.0  ...      115.85 -31.9    debit\n",
              "9      posted                NaN  ...               NaN    debit\n",
              "\n",
              "[10 rows x 23 columns]"
            ]
          },
          "metadata": {
            "tags": []
          },
          "execution_count": 2
        }
      ]
    },
    {
      "cell_type": "markdown",
      "metadata": {
        "id": "gk74SPXK7aDi"
      },
      "source": [
        "**Summary of a DataFrame**"
      ]
    },
    {
      "cell_type": "code",
      "metadata": {
        "colab": {
          "base_uri": "https://localhost:8080/"
        },
        "id": "2LgEPJea68dy",
        "outputId": "33007631-1d2b-472f-8cf3-5ab426960ac1"
      },
      "source": [
        "data.info()"
      ],
      "execution_count": 3,
      "outputs": [
        {
          "output_type": "stream",
          "text": [
            "<class 'pandas.core.frame.DataFrame'>\n",
            "RangeIndex: 12043 entries, 0 to 12042\n",
            "Data columns (total 23 columns):\n",
            " #   Column             Non-Null Count  Dtype         \n",
            "---  ------             --------------  -----         \n",
            " 0   status             12043 non-null  object        \n",
            " 1   card_present_flag  7717 non-null   float64       \n",
            " 2   bpay_biller_code   885 non-null    object        \n",
            " 3   account            12043 non-null  object        \n",
            " 4   currency           12043 non-null  object        \n",
            " 5   long_lat           12043 non-null  object        \n",
            " 6   txn_description    12043 non-null  object        \n",
            " 7   merchant_id        7717 non-null   object        \n",
            " 8   merchant_code      883 non-null    float64       \n",
            " 9   first_name         12043 non-null  object        \n",
            " 10  balance            12043 non-null  float64       \n",
            " 11  date               12043 non-null  datetime64[ns]\n",
            " 12  gender             12043 non-null  object        \n",
            " 13  age                12043 non-null  int64         \n",
            " 14  merchant_suburb    7717 non-null   object        \n",
            " 15  merchant_state     7717 non-null   object        \n",
            " 16  extraction         12043 non-null  object        \n",
            " 17  amount             12043 non-null  float64       \n",
            " 18  transaction_id     12043 non-null  object        \n",
            " 19  country            12043 non-null  object        \n",
            " 20  customer_id        12043 non-null  object        \n",
            " 21  merchant_long_lat  7717 non-null   object        \n",
            " 22  movement           12043 non-null  object        \n",
            "dtypes: datetime64[ns](1), float64(4), int64(1), object(17)\n",
            "memory usage: 2.1+ MB\n"
          ],
          "name": "stdout"
        }
      ]
    },
    {
      "cell_type": "markdown",
      "metadata": {
        "id": "62YtDukB7hSv"
      },
      "source": [
        "**Dropdown the unecessary column**"
      ]
    },
    {
      "cell_type": "code",
      "metadata": {
        "colab": {
          "base_uri": "https://localhost:8080/",
          "height": 359
        },
        "id": "fPJOk2sq7QC9",
        "outputId": "2897e3dd-25e4-49b9-803d-85e247c693a8"
      },
      "source": [
        "r_data=data[[\"customer_id\",\"age\",\"gender\",\"txn_description\",\"balance\",\"amount\",\"movement\",\"date\"]]\r\n",
        "r_data.head(10)"
      ],
      "execution_count": 4,
      "outputs": [
        {
          "output_type": "execute_result",
          "data": {
            "text/html": [
              "<div>\n",
              "<style scoped>\n",
              "    .dataframe tbody tr th:only-of-type {\n",
              "        vertical-align: middle;\n",
              "    }\n",
              "\n",
              "    .dataframe tbody tr th {\n",
              "        vertical-align: top;\n",
              "    }\n",
              "\n",
              "    .dataframe thead th {\n",
              "        text-align: right;\n",
              "    }\n",
              "</style>\n",
              "<table border=\"1\" class=\"dataframe\">\n",
              "  <thead>\n",
              "    <tr style=\"text-align: right;\">\n",
              "      <th></th>\n",
              "      <th>customer_id</th>\n",
              "      <th>age</th>\n",
              "      <th>gender</th>\n",
              "      <th>txn_description</th>\n",
              "      <th>balance</th>\n",
              "      <th>amount</th>\n",
              "      <th>movement</th>\n",
              "      <th>date</th>\n",
              "    </tr>\n",
              "  </thead>\n",
              "  <tbody>\n",
              "    <tr>\n",
              "      <th>0</th>\n",
              "      <td>CUS-2487424745</td>\n",
              "      <td>26</td>\n",
              "      <td>F</td>\n",
              "      <td>POS</td>\n",
              "      <td>35.39</td>\n",
              "      <td>16.25</td>\n",
              "      <td>debit</td>\n",
              "      <td>2018-08-01</td>\n",
              "    </tr>\n",
              "    <tr>\n",
              "      <th>1</th>\n",
              "      <td>CUS-2487424745</td>\n",
              "      <td>26</td>\n",
              "      <td>F</td>\n",
              "      <td>SALES-POS</td>\n",
              "      <td>21.20</td>\n",
              "      <td>14.19</td>\n",
              "      <td>debit</td>\n",
              "      <td>2018-08-01</td>\n",
              "    </tr>\n",
              "    <tr>\n",
              "      <th>2</th>\n",
              "      <td>CUS-2142601169</td>\n",
              "      <td>38</td>\n",
              "      <td>M</td>\n",
              "      <td>POS</td>\n",
              "      <td>5.71</td>\n",
              "      <td>6.42</td>\n",
              "      <td>debit</td>\n",
              "      <td>2018-08-01</td>\n",
              "    </tr>\n",
              "    <tr>\n",
              "      <th>3</th>\n",
              "      <td>CUS-1614226872</td>\n",
              "      <td>40</td>\n",
              "      <td>F</td>\n",
              "      <td>SALES-POS</td>\n",
              "      <td>2117.22</td>\n",
              "      <td>40.90</td>\n",
              "      <td>debit</td>\n",
              "      <td>2018-08-01</td>\n",
              "    </tr>\n",
              "    <tr>\n",
              "      <th>4</th>\n",
              "      <td>CUS-2487424745</td>\n",
              "      <td>26</td>\n",
              "      <td>F</td>\n",
              "      <td>SALES-POS</td>\n",
              "      <td>17.95</td>\n",
              "      <td>3.25</td>\n",
              "      <td>debit</td>\n",
              "      <td>2018-08-01</td>\n",
              "    </tr>\n",
              "    <tr>\n",
              "      <th>5</th>\n",
              "      <td>CUS-2688605418</td>\n",
              "      <td>20</td>\n",
              "      <td>M</td>\n",
              "      <td>PAYMENT</td>\n",
              "      <td>1705.43</td>\n",
              "      <td>163.00</td>\n",
              "      <td>debit</td>\n",
              "      <td>2018-08-01</td>\n",
              "    </tr>\n",
              "    <tr>\n",
              "      <th>6</th>\n",
              "      <td>CUS-4123612273</td>\n",
              "      <td>43</td>\n",
              "      <td>F</td>\n",
              "      <td>SALES-POS</td>\n",
              "      <td>1248.36</td>\n",
              "      <td>61.06</td>\n",
              "      <td>debit</td>\n",
              "      <td>2018-08-01</td>\n",
              "    </tr>\n",
              "    <tr>\n",
              "      <th>7</th>\n",
              "      <td>CUS-4123612273</td>\n",
              "      <td>43</td>\n",
              "      <td>F</td>\n",
              "      <td>POS</td>\n",
              "      <td>1232.75</td>\n",
              "      <td>15.61</td>\n",
              "      <td>debit</td>\n",
              "      <td>2018-08-01</td>\n",
              "    </tr>\n",
              "    <tr>\n",
              "      <th>8</th>\n",
              "      <td>CUS-3026014945</td>\n",
              "      <td>27</td>\n",
              "      <td>F</td>\n",
              "      <td>POS</td>\n",
              "      <td>213.16</td>\n",
              "      <td>19.25</td>\n",
              "      <td>debit</td>\n",
              "      <td>2018-08-01</td>\n",
              "    </tr>\n",
              "    <tr>\n",
              "      <th>9</th>\n",
              "      <td>CUS-2031327464</td>\n",
              "      <td>40</td>\n",
              "      <td>M</td>\n",
              "      <td>INTER BANK</td>\n",
              "      <td>466.58</td>\n",
              "      <td>21.00</td>\n",
              "      <td>debit</td>\n",
              "      <td>2018-08-01</td>\n",
              "    </tr>\n",
              "  </tbody>\n",
              "</table>\n",
              "</div>"
            ],
            "text/plain": [
              "      customer_id  age gender  ...  amount  movement       date\n",
              "0  CUS-2487424745   26      F  ...   16.25     debit 2018-08-01\n",
              "1  CUS-2487424745   26      F  ...   14.19     debit 2018-08-01\n",
              "2  CUS-2142601169   38      M  ...    6.42     debit 2018-08-01\n",
              "3  CUS-1614226872   40      F  ...   40.90     debit 2018-08-01\n",
              "4  CUS-2487424745   26      F  ...    3.25     debit 2018-08-01\n",
              "5  CUS-2688605418   20      M  ...  163.00     debit 2018-08-01\n",
              "6  CUS-4123612273   43      F  ...   61.06     debit 2018-08-01\n",
              "7  CUS-4123612273   43      F  ...   15.61     debit 2018-08-01\n",
              "8  CUS-3026014945   27      F  ...   19.25     debit 2018-08-01\n",
              "9  CUS-2031327464   40      M  ...   21.00     debit 2018-08-01\n",
              "\n",
              "[10 rows x 8 columns]"
            ]
          },
          "metadata": {
            "tags": []
          },
          "execution_count": 4
        }
      ]
    },
    {
      "cell_type": "markdown",
      "metadata": {
        "id": "U8Fzoymm7yRP"
      },
      "source": [
        "**Check out missing or null value present in dataframe**"
      ]
    },
    {
      "cell_type": "code",
      "metadata": {
        "colab": {
          "base_uri": "https://localhost:8080/"
        },
        "id": "U-_jbfEE7lyW",
        "outputId": "6be1c871-adda-49ec-a2a3-745a1aa9a5fa"
      },
      "source": [
        "r_data.isnull().sum()"
      ],
      "execution_count": 5,
      "outputs": [
        {
          "output_type": "execute_result",
          "data": {
            "text/plain": [
              "customer_id        0\n",
              "age                0\n",
              "gender             0\n",
              "txn_description    0\n",
              "balance            0\n",
              "amount             0\n",
              "movement           0\n",
              "date               0\n",
              "dtype: int64"
            ]
          },
          "metadata": {
            "tags": []
          },
          "execution_count": 5
        }
      ]
    },
    {
      "cell_type": "markdown",
      "metadata": {
        "id": "PBgIyXJx8AGG"
      },
      "source": [
        "**counts of unique values**"
      ]
    },
    {
      "cell_type": "code",
      "metadata": {
        "colab": {
          "base_uri": "https://localhost:8080/"
        },
        "id": "EVXdSpjD8QYM",
        "outputId": "685aeedd-13ad-46fc-ef92-e476bd479e98"
      },
      "source": [
        "r_data['txn_description'].value_counts()"
      ],
      "execution_count": 6,
      "outputs": [
        {
          "output_type": "execute_result",
          "data": {
            "text/plain": [
              "SALES-POS     3934\n",
              "POS           3783\n",
              "PAYMENT       2600\n",
              "PAY/SALARY     883\n",
              "INTER BANK     742\n",
              "PHONE BANK     101\n",
              "Name: txn_description, dtype: int64"
            ]
          },
          "metadata": {
            "tags": []
          },
          "execution_count": 6
        }
      ]
    },
    {
      "cell_type": "markdown",
      "metadata": {
        "id": "a0y4kxG48Yzf"
      },
      "source": [
        "**Distribution plot of balance**"
      ]
    },
    {
      "cell_type": "code",
      "metadata": {
        "id": "2Fy00orcWJo0",
        "colab": {
          "base_uri": "https://localhost:8080/",
          "height": 307
        },
        "outputId": "0aea7116-9ede-4bae-e4ca-82dfd148c64e"
      },
      "source": [
        "sns.distplot(r_data['balance'].dropna(),color='darkred',bins=15)"
      ],
      "execution_count": 46,
      "outputs": [
        {
          "output_type": "execute_result",
          "data": {
            "text/plain": [
              "<matplotlib.axes._subplots.AxesSubplot at 0x7fbd5f3ef610>"
            ]
          },
          "metadata": {
            "tags": []
          },
          "execution_count": 46
        },
        {
          "output_type": "display_data",
          "data": {
            "image/png": "[encoded data removed]",
            "text/plain": [
              "<Figure size 432x288 with 1 Axes>"
            ]
          },
          "metadata": {
            "tags": [],
            "needs_background": "light"
          }
        }
      ]
    },
    {
      "cell_type": "markdown",
      "metadata": {
        "id": "rXQpYgI48lVX"
      },
      "source": [
        "Assending sort of all unique age"
      ]
    },
    {
      "cell_type": "code",
      "metadata": {
        "colab": {
          "base_uri": "https://localhost:8080/"
        },
        "id": "o0EXgVzTTQgW",
        "outputId": "97f477e9-a36b-479f-ce3c-d12b8f403f23"
      },
      "source": [
        "print(sorted(r_data['age'].unique()))"
      ],
      "execution_count": 8,
      "outputs": [
        {
          "output_type": "stream",
          "text": [
            "[18, 19, 20, 21, 22, 23, 24, 25, 26, 27, 28, 29, 30, 31, 33, 34, 35, 37, 38, 39, 40, 41, 42, 43, 44, 46, 47, 50, 52, 53, 64, 69, 78]\n"
          ],
          "name": "stdout"
        }
      ]
    },
    {
      "cell_type": "markdown",
      "metadata": {
        "id": "TxdG1NFR82pG"
      },
      "source": [
        "Filtration the dataframe,choose data point with **PAY/SALARY 'txn_description' &\r\n",
        "credit 'movement'**.\r\n",
        "Creat new column **annual_sal** which is quater times multiple of **amount**.\r\n",
        "Categorical features encoding use simple mapping on binary features(gender).\r\n",
        "Set index with **customer_id**. As priviously filtration of dataframe,dropdown txn_description,movement.\r\n",
        "\r\n"
      ]
    },
    {
      "cell_type": "code",
      "metadata": {
        "colab": {
          "base_uri": "https://localhost:8080/",
          "height": 390
        },
        "id": "ezREusWlU8K7",
        "outputId": "58769418-f8a5-4b36-c72b-6cbe85536d4b"
      },
      "source": [
        "sal_data = r_data[(r_data['txn_description'] == 'PAY/SALARY')& (r_data['movement'] == 'credit')]\r\n",
        "sal_data['annual_sal'] = (round(sal_data['amount']*4,3))\r\n",
        "sal_data['gender'] = sal_data['gender'].apply(lambda x: 1 if x =='M' else (0 if x =='F' else None)) \r\n",
        "sal_data.set_index(['customer_id'], inplace = True) \r\n",
        "sal_data=sal_data.drop(columns=['txn_description','movement'])\r\n",
        "sal_data.head(10)"
      ],
      "execution_count": 9,
      "outputs": [
        {
          "output_type": "execute_result",
          "data": {
            "text/html": [
              "<div>\n",
              "<style scoped>\n",
              "    .dataframe tbody tr th:only-of-type {\n",
              "        vertical-align: middle;\n",
              "    }\n",
              "\n",
              "    .dataframe tbody tr th {\n",
              "        vertical-align: top;\n",
              "    }\n",
              "\n",
              "    .dataframe thead th {\n",
              "        text-align: right;\n",
              "    }\n",
              "</style>\n",
              "<table border=\"1\" class=\"dataframe\">\n",
              "  <thead>\n",
              "    <tr style=\"text-align: right;\">\n",
              "      <th></th>\n",
              "      <th>age</th>\n",
              "      <th>gender</th>\n",
              "      <th>balance</th>\n",
              "      <th>amount</th>\n",
              "      <th>date</th>\n",
              "      <th>annual_sal</th>\n",
              "    </tr>\n",
              "    <tr>\n",
              "      <th>customer_id</th>\n",
              "      <th></th>\n",
              "      <th></th>\n",
              "      <th></th>\n",
              "      <th></th>\n",
              "      <th></th>\n",
              "      <th></th>\n",
              "    </tr>\n",
              "  </thead>\n",
              "  <tbody>\n",
              "    <tr>\n",
              "      <th>CUS-1462656821</th>\n",
              "      <td>23</td>\n",
              "      <td>1</td>\n",
              "      <td>8342.11</td>\n",
              "      <td>3903.95</td>\n",
              "      <td>2018-08-01</td>\n",
              "      <td>15615.80</td>\n",
              "    </tr>\n",
              "    <tr>\n",
              "      <th>CUS-2500783281</th>\n",
              "      <td>23</td>\n",
              "      <td>0</td>\n",
              "      <td>2040.58</td>\n",
              "      <td>1626.48</td>\n",
              "      <td>2018-08-01</td>\n",
              "      <td>6505.92</td>\n",
              "    </tr>\n",
              "    <tr>\n",
              "      <th>CUS-326006476</th>\n",
              "      <td>22</td>\n",
              "      <td>1</td>\n",
              "      <td>3158.51</td>\n",
              "      <td>983.36</td>\n",
              "      <td>2018-08-01</td>\n",
              "      <td>3933.44</td>\n",
              "    </tr>\n",
              "    <tr>\n",
              "      <th>CUS-1433879684</th>\n",
              "      <td>24</td>\n",
              "      <td>1</td>\n",
              "      <td>2517.66</td>\n",
              "      <td>1408.08</td>\n",
              "      <td>2018-08-01</td>\n",
              "      <td>5632.32</td>\n",
              "    </tr>\n",
              "    <tr>\n",
              "      <th>CUS-4123612273</th>\n",
              "      <td>43</td>\n",
              "      <td>0</td>\n",
              "      <td>2271.79</td>\n",
              "      <td>1068.04</td>\n",
              "      <td>2018-08-01</td>\n",
              "      <td>4272.16</td>\n",
              "    </tr>\n",
              "    <tr>\n",
              "      <th>CUS-2487424745</th>\n",
              "      <td>26</td>\n",
              "      <td>0</td>\n",
              "      <td>1017.52</td>\n",
              "      <td>1013.67</td>\n",
              "      <td>2018-08-01</td>\n",
              "      <td>4054.68</td>\n",
              "    </tr>\n",
              "    <tr>\n",
              "      <th>CUS-1196156254</th>\n",
              "      <td>34</td>\n",
              "      <td>0</td>\n",
              "      <td>16433.32</td>\n",
              "      <td>3903.73</td>\n",
              "      <td>2018-08-01</td>\n",
              "      <td>15614.92</td>\n",
              "    </tr>\n",
              "    <tr>\n",
              "      <th>CUS-1646621553</th>\n",
              "      <td>26</td>\n",
              "      <td>1</td>\n",
              "      <td>1796.37</td>\n",
              "      <td>1098.91</td>\n",
              "      <td>2018-08-01</td>\n",
              "      <td>4395.64</td>\n",
              "    </tr>\n",
              "    <tr>\n",
              "      <th>CUS-495599312</th>\n",
              "      <td>38</td>\n",
              "      <td>1</td>\n",
              "      <td>50383.16</td>\n",
              "      <td>2647.38</td>\n",
              "      <td>2018-08-01</td>\n",
              "      <td>10589.52</td>\n",
              "    </tr>\n",
              "    <tr>\n",
              "      <th>CUS-1271030853</th>\n",
              "      <td>30</td>\n",
              "      <td>0</td>\n",
              "      <td>1244.45</td>\n",
              "      <td>1158.15</td>\n",
              "      <td>2018-08-01</td>\n",
              "      <td>4632.60</td>\n",
              "    </tr>\n",
              "  </tbody>\n",
              "</table>\n",
              "</div>"
            ],
            "text/plain": [
              "                age  gender   balance   amount       date  annual_sal\n",
              "customer_id                                                          \n",
              "CUS-1462656821   23       1   8342.11  3903.95 2018-08-01    15615.80\n",
              "CUS-2500783281   23       0   2040.58  1626.48 2018-08-01     6505.92\n",
              "CUS-326006476    22       1   3158.51   983.36 2018-08-01     3933.44\n",
              "CUS-1433879684   24       1   2517.66  1408.08 2018-08-01     5632.32\n",
              "CUS-4123612273   43       0   2271.79  1068.04 2018-08-01     4272.16\n",
              "CUS-2487424745   26       0   1017.52  1013.67 2018-08-01     4054.68\n",
              "CUS-1196156254   34       0  16433.32  3903.73 2018-08-01    15614.92\n",
              "CUS-1646621553   26       1   1796.37  1098.91 2018-08-01     4395.64\n",
              "CUS-495599312    38       1  50383.16  2647.38 2018-08-01    10589.52\n",
              "CUS-1271030853   30       0   1244.45  1158.15 2018-08-01     4632.60"
            ]
          },
          "metadata": {
            "tags": []
          },
          "execution_count": 9
        }
      ]
    },
    {
      "cell_type": "markdown",
      "metadata": {
        "id": "Uv7LOhL7V7cX"
      },
      "source": [
        "All statistical description including total count,mean,max,minimum,std.dev & IQR"
      ]
    },
    {
      "cell_type": "code",
      "metadata": {
        "colab": {
          "base_uri": "https://localhost:8080/",
          "height": 297
        },
        "id": "Beb3OXX0Xr1B",
        "outputId": "694a0a04-e4ff-4f90-d673-169a8c481fe0"
      },
      "source": [
        "sal_data.describe()"
      ],
      "execution_count": 10,
      "outputs": [
        {
          "output_type": "execute_result",
          "data": {
            "text/html": [
              "<div>\n",
              "<style scoped>\n",
              "    .dataframe tbody tr th:only-of-type {\n",
              "        vertical-align: middle;\n",
              "    }\n",
              "\n",
              "    .dataframe tbody tr th {\n",
              "        vertical-align: top;\n",
              "    }\n",
              "\n",
              "    .dataframe thead th {\n",
              "        text-align: right;\n",
              "    }\n",
              "</style>\n",
              "<table border=\"1\" class=\"dataframe\">\n",
              "  <thead>\n",
              "    <tr style=\"text-align: right;\">\n",
              "      <th></th>\n",
              "      <th>age</th>\n",
              "      <th>gender</th>\n",
              "      <th>balance</th>\n",
              "      <th>amount</th>\n",
              "      <th>annual_sal</th>\n",
              "    </tr>\n",
              "  </thead>\n",
              "  <tbody>\n",
              "    <tr>\n",
              "      <th>count</th>\n",
              "      <td>883.000000</td>\n",
              "      <td>883.000000</td>\n",
              "      <td>883.000000</td>\n",
              "      <td>883.000000</td>\n",
              "      <td>883.000000</td>\n",
              "    </tr>\n",
              "    <tr>\n",
              "      <th>mean</th>\n",
              "      <td>32.631937</td>\n",
              "      <td>0.525481</td>\n",
              "      <td>16242.859049</td>\n",
              "      <td>1898.728029</td>\n",
              "      <td>7594.912118</td>\n",
              "    </tr>\n",
              "    <tr>\n",
              "      <th>std</th>\n",
              "      <td>12.276731</td>\n",
              "      <td>0.499633</td>\n",
              "      <td>30953.342656</td>\n",
              "      <td>1150.364621</td>\n",
              "      <td>4601.458485</td>\n",
              "    </tr>\n",
              "    <tr>\n",
              "      <th>min</th>\n",
              "      <td>18.000000</td>\n",
              "      <td>0.000000</td>\n",
              "      <td>735.660000</td>\n",
              "      <td>576.000000</td>\n",
              "      <td>2304.000000</td>\n",
              "    </tr>\n",
              "    <tr>\n",
              "      <th>25%</th>\n",
              "      <td>22.000000</td>\n",
              "      <td>0.000000</td>\n",
              "      <td>4309.995000</td>\n",
              "      <td>1013.670000</td>\n",
              "      <td>4054.680000</td>\n",
              "    </tr>\n",
              "    <tr>\n",
              "      <th>50%</th>\n",
              "      <td>30.000000</td>\n",
              "      <td>1.000000</td>\n",
              "      <td>7532.540000</td>\n",
              "      <td>1626.480000</td>\n",
              "      <td>6505.920000</td>\n",
              "    </tr>\n",
              "    <tr>\n",
              "      <th>75%</th>\n",
              "      <td>40.000000</td>\n",
              "      <td>1.000000</td>\n",
              "      <td>14370.765000</td>\n",
              "      <td>2538.680000</td>\n",
              "      <td>10154.720000</td>\n",
              "    </tr>\n",
              "    <tr>\n",
              "      <th>max</th>\n",
              "      <td>78.000000</td>\n",
              "      <td>1.000000</td>\n",
              "      <td>267128.520000</td>\n",
              "      <td>8835.980000</td>\n",
              "      <td>35343.920000</td>\n",
              "    </tr>\n",
              "  </tbody>\n",
              "</table>\n",
              "</div>"
            ],
            "text/plain": [
              "              age      gender        balance       amount    annual_sal\n",
              "count  883.000000  883.000000     883.000000   883.000000    883.000000\n",
              "mean    32.631937    0.525481   16242.859049  1898.728029   7594.912118\n",
              "std     12.276731    0.499633   30953.342656  1150.364621   4601.458485\n",
              "min     18.000000    0.000000     735.660000   576.000000   2304.000000\n",
              "25%     22.000000    0.000000    4309.995000  1013.670000   4054.680000\n",
              "50%     30.000000    1.000000    7532.540000  1626.480000   6505.920000\n",
              "75%     40.000000    1.000000   14370.765000  2538.680000  10154.720000\n",
              "max     78.000000    1.000000  267128.520000  8835.980000  35343.920000"
            ]
          },
          "metadata": {
            "tags": []
          },
          "execution_count": 10
        }
      ]
    },
    {
      "cell_type": "markdown",
      "metadata": {
        "id": "NPxAPGOqZj-2"
      },
      "source": [
        "Pair plot between all features"
      ]
    },
    {
      "cell_type": "code",
      "metadata": {
        "colab": {
          "base_uri": "https://localhost:8080/",
          "height": 391
        },
        "id": "6RZ9VqApZutQ",
        "outputId": "f18cc948-8fd5-44c4-cbd5-32c03616c536"
      },
      "source": [
        "sns.pairplot(sal_data,x_vars=['age','gender'],y_vars=['annual_sal', 'balance'])"
      ],
      "execution_count": 11,
      "outputs": [
        {
          "output_type": "execute_result",
          "data": {
            "text/plain": [
              "<seaborn.axisgrid.PairGrid at 0x7fbd78ad7b90>"
            ]
          },
          "metadata": {
            "tags": []
          },
          "execution_count": 11
        },
        {
          "output_type": "display_data",
          "data": {
            "image/png": "[encoded data removed]",
            "text/plain": [
              "<Figure size 360x360 with 4 Axes>"
            ]
          },
          "metadata": {
            "tags": [],
            "needs_background": "light"
          }
        }
      ]
    },
    {
      "cell_type": "markdown",
      "metadata": {
        "id": "tQ8Ds4k8bDRH"
      },
      "source": [
        "Histogram of age"
      ]
    },
    {
      "cell_type": "code",
      "metadata": {
        "id": "4k5osiMrZXfD",
        "colab": {
          "base_uri": "https://localhost:8080/",
          "height": 296
        },
        "outputId": "f7f89bdf-9883-40c3-a744-09f01c5e3311"
      },
      "source": [
        "sns.histplot(sal_data['age'], bins=5)"
      ],
      "execution_count": 13,
      "outputs": [
        {
          "output_type": "execute_result",
          "data": {
            "text/plain": [
              "<matplotlib.axes._subplots.AxesSubplot at 0x7fbd6f482a50>"
            ]
          },
          "metadata": {
            "tags": []
          },
          "execution_count": 13
        },
        {
          "output_type": "display_data",
          "data": {
            "image/png": "[encoded data removed]",
            "text/plain": [
              "<Figure size 432x288 with 1 Axes>"
            ]
          },
          "metadata": {
            "tags": [],
            "needs_background": "light"
          }
        }
      ]
    },
    {
      "cell_type": "code",
      "metadata": {
        "id": "i_bHmRXRSPDG"
      },
      "source": [
        "from sklearn.model_selection import train_test_split \r\n",
        "import statsmodels.formula.api as smf\r\n",
        "from sklearn import linear_model, metrics\r\n",
        "from sklearn.tree import DecisionTreeRegressor\r\n",
        "from sklearn.metrics import mean_squared_error\r\n",
        "from sklearn.model_selection import cross_val_score\r\n",
        "from sklearn.metrics import r2_score"
      ],
      "execution_count": 16,
      "outputs": []
    },
    {
      "cell_type": "markdown",
      "metadata": {
        "id": "rHF3oJb8bPbN"
      },
      "source": [
        "Features Selection"
      ]
    },
    {
      "cell_type": "code",
      "metadata": {
        "colab": {
          "base_uri": "https://localhost:8080/"
        },
        "id": "E7A759Tf4lRZ",
        "outputId": "d8448a28-5414-45a8-d36b-c0f266cd1117"
      },
      "source": [
        "x=sal_data.loc[:,('gender','age','balance','amount')]\r\n",
        "x.shape"
      ],
      "execution_count": 14,
      "outputs": [
        {
          "output_type": "execute_result",
          "data": {
            "text/plain": [
              "(883, 4)"
            ]
          },
          "metadata": {
            "tags": []
          },
          "execution_count": 14
        }
      ]
    },
    {
      "cell_type": "code",
      "metadata": {
        "colab": {
          "base_uri": "https://localhost:8080/"
        },
        "id": "-1r0n2h85v9Z",
        "outputId": "dee54747-2679-48e3-9901-9ec93713859b"
      },
      "source": [
        "y=sal_data.loc[:,('annual_sal')]\r\n",
        "y.shape"
      ],
      "execution_count": 15,
      "outputs": [
        {
          "output_type": "execute_result",
          "data": {
            "text/plain": [
              "(883,)"
            ]
          },
          "metadata": {
            "tags": []
          },
          "execution_count": 15
        }
      ]
    },
    {
      "cell_type": "markdown",
      "metadata": {
        "id": "x0RNzGOSbXp8"
      },
      "source": [
        "Split data into train set and training set"
      ]
    },
    {
      "cell_type": "code",
      "metadata": {
        "id": "b4nDyjQR99e6"
      },
      "source": [
        "X_train,X_test,y_train,y_test = train_test_split(x,y,train_size=0.7,random_state=1)"
      ],
      "execution_count": 17,
      "outputs": []
    },
    {
      "cell_type": "code",
      "metadata": {
        "colab": {
          "base_uri": "https://localhost:8080/",
          "height": 235
        },
        "id": "eJf4xulxz5WY",
        "outputId": "81ddda42-9077-4833-958a-8e7d2feac1dc"
      },
      "source": [
        "X_train.head(5)"
      ],
      "execution_count": 18,
      "outputs": [
        {
          "output_type": "execute_result",
          "data": {
            "text/html": [
              "<div>\n",
              "<style scoped>\n",
              "    .dataframe tbody tr th:only-of-type {\n",
              "        vertical-align: middle;\n",
              "    }\n",
              "\n",
              "    .dataframe tbody tr th {\n",
              "        vertical-align: top;\n",
              "    }\n",
              "\n",
              "    .dataframe thead th {\n",
              "        text-align: right;\n",
              "    }\n",
              "</style>\n",
              "<table border=\"1\" class=\"dataframe\">\n",
              "  <thead>\n",
              "    <tr style=\"text-align: right;\">\n",
              "      <th></th>\n",
              "      <th>gender</th>\n",
              "      <th>age</th>\n",
              "      <th>balance</th>\n",
              "      <th>amount</th>\n",
              "    </tr>\n",
              "    <tr>\n",
              "      <th>customer_id</th>\n",
              "      <th></th>\n",
              "      <th></th>\n",
              "      <th></th>\n",
              "      <th></th>\n",
              "    </tr>\n",
              "  </thead>\n",
              "  <tbody>\n",
              "    <tr>\n",
              "      <th>CUS-1388323263</th>\n",
              "      <td>1</td>\n",
              "      <td>69</td>\n",
              "      <td>2840.39</td>\n",
              "      <td>1043.12</td>\n",
              "    </tr>\n",
              "    <tr>\n",
              "      <th>CUS-3325710106</th>\n",
              "      <td>1</td>\n",
              "      <td>20</td>\n",
              "      <td>8682.68</td>\n",
              "      <td>1099.70</td>\n",
              "    </tr>\n",
              "    <tr>\n",
              "      <th>CUS-55310383</th>\n",
              "      <td>0</td>\n",
              "      <td>30</td>\n",
              "      <td>6809.38</td>\n",
              "      <td>1636.72</td>\n",
              "    </tr>\n",
              "    <tr>\n",
              "      <th>CUS-511326734</th>\n",
              "      <td>1</td>\n",
              "      <td>23</td>\n",
              "      <td>1823.78</td>\n",
              "      <td>982.71</td>\n",
              "    </tr>\n",
              "    <tr>\n",
              "      <th>CUS-331942311</th>\n",
              "      <td>0</td>\n",
              "      <td>26</td>\n",
              "      <td>6548.23</td>\n",
              "      <td>1843.14</td>\n",
              "    </tr>\n",
              "  </tbody>\n",
              "</table>\n",
              "</div>"
            ],
            "text/plain": [
              "                gender  age  balance   amount\n",
              "customer_id                                  \n",
              "CUS-1388323263       1   69  2840.39  1043.12\n",
              "CUS-3325710106       1   20  8682.68  1099.70\n",
              "CUS-55310383         0   30  6809.38  1636.72\n",
              "CUS-511326734        1   23  1823.78   982.71\n",
              "CUS-331942311        0   26  6548.23  1843.14"
            ]
          },
          "metadata": {
            "tags": []
          },
          "execution_count": 18
        }
      ]
    },
    {
      "cell_type": "markdown",
      "metadata": {
        "id": "7cS_44LFbfsy"
      },
      "source": [
        "length of each train and test"
      ]
    },
    {
      "cell_type": "code",
      "metadata": {
        "colab": {
          "base_uri": "https://localhost:8080/"
        },
        "id": "oYN3btuvrAoz",
        "outputId": "3e584beb-f415-459e-c7a9-0261ca46b870"
      },
      "source": [
        "len(X_train),len(y_train),len(X_test),len(y_test)"
      ],
      "execution_count": 19,
      "outputs": [
        {
          "output_type": "execute_result",
          "data": {
            "text/plain": [
              "(618, 618, 265, 265)"
            ]
          },
          "metadata": {
            "tags": []
          },
          "execution_count": 19
        }
      ]
    },
    {
      "cell_type": "markdown",
      "metadata": {
        "id": "hMzuSrHbbj7k"
      },
      "source": [
        "OLS Model"
      ]
    },
    {
      "cell_type": "code",
      "metadata": {
        "colab": {
          "base_uri": "https://localhost:8080/"
        },
        "id": "cG4P29dVlzfC",
        "outputId": "a0c5c6bc-8c76-4fe1-8e84-d873de843164"
      },
      "source": [
        "fm = smf.ols(formula='annual_sal ~ gender+age+balance+amount', data=sal_data).fit()\r\n",
        "# print the coefficients\r\n",
        "fm.params"
      ],
      "execution_count": 20,
      "outputs": [
        {
          "output_type": "execute_result",
          "data": {
            "text/plain": [
              "Intercept   -6.778578e-12\n",
              "gender      -4.668266e-12\n",
              "age          1.827427e-13\n",
              "balance      2.338785e-16\n",
              "amount       4.000000e+00\n",
              "dtype: float64"
            ]
          },
          "metadata": {
            "tags": []
          },
          "execution_count": 20
        }
      ]
    },
    {
      "cell_type": "markdown",
      "metadata": {
        "id": "XviqZvzabwJE"
      },
      "source": [
        "**OLS Model Summary**"
      ]
    },
    {
      "cell_type": "code",
      "metadata": {
        "colab": {
          "base_uri": "https://localhost:8080/",
          "height": 541
        },
        "id": "H2LYku1vmxwh",
        "outputId": "28c0adfe-2ad5-44fb-bacc-d4c90a02760a"
      },
      "source": [
        "# print a summary of the fitted model\r\n",
        "fm.summary()"
      ],
      "execution_count": 21,
      "outputs": [
        {
          "output_type": "execute_result",
          "data": {
            "text/html": [
              "<table class=\"simpletable\">\n",
              "<caption>OLS Regression Results</caption>\n",
              "<tr>\n",
              "  <th>Dep. Variable:</th>       <td>annual_sal</td>    <th>  R-squared:         </th>  <td>   1.000</td> \n",
              "</tr>\n",
              "<tr>\n",
              "  <th>Model:</th>                   <td>OLS</td>       <th>  Adj. R-squared:    </th>  <td>   1.000</td> \n",
              "</tr>\n",
              "<tr>\n",
              "  <th>Method:</th>             <td>Least Squares</td>  <th>  F-statistic:       </th>  <td>6.526e+31</td>\n",
              "</tr>\n",
              "<tr>\n",
              "  <th>Date:</th>             <td>Thu, 11 Mar 2021</td> <th>  Prob (F-statistic):</th>   <td>  0.00</td>  \n",
              "</tr>\n",
              "<tr>\n",
              "  <th>Time:</th>                 <td>12:36:40</td>     <th>  Log-Likelihood:    </th>  <td>  21262.</td> \n",
              "</tr>\n",
              "<tr>\n",
              "  <th>No. Observations:</th>      <td>   883</td>      <th>  AIC:               </th> <td>-4.251e+04</td>\n",
              "</tr>\n",
              "<tr>\n",
              "  <th>Df Residuals:</th>          <td>   878</td>      <th>  BIC:               </th> <td>-4.249e+04</td>\n",
              "</tr>\n",
              "<tr>\n",
              "  <th>Df Model:</th>              <td>     4</td>      <th>                     </th>      <td> </td>    \n",
              "</tr>\n",
              "<tr>\n",
              "  <th>Covariance Type:</th>      <td>nonrobust</td>    <th>                     </th>      <td> </td>    \n",
              "</tr>\n",
              "</table>\n",
              "<table class=\"simpletable\">\n",
              "<tr>\n",
              "      <td></td>         <th>coef</th>     <th>std err</th>      <th>t</th>      <th>P>|t|</th>  <th>[0.025</th>    <th>0.975]</th>  \n",
              "</tr>\n",
              "<tr>\n",
              "  <th>Intercept</th> <td>-6.779e-12</td> <td> 1.03e-12</td> <td>   -6.570</td> <td> 0.000</td> <td> -8.8e-12</td> <td>-4.75e-12</td>\n",
              "</tr>\n",
              "<tr>\n",
              "  <th>gender</th>    <td>-4.668e-12</td> <td> 5.82e-13</td> <td>   -8.014</td> <td> 0.000</td> <td>-5.81e-12</td> <td>-3.53e-12</td>\n",
              "</tr>\n",
              "<tr>\n",
              "  <th>age</th>       <td> 1.827e-13</td> <td> 2.42e-14</td> <td>    7.553</td> <td> 0.000</td> <td> 1.35e-13</td> <td>  2.3e-13</td>\n",
              "</tr>\n",
              "<tr>\n",
              "  <th>balance</th>   <td> 2.339e-16</td> <td> 9.95e-18</td> <td>   23.512</td> <td> 0.000</td> <td> 2.14e-16</td> <td> 2.53e-16</td>\n",
              "</tr>\n",
              "<tr>\n",
              "  <th>amount</th>    <td>    4.0000</td> <td> 2.67e-16</td> <td>  1.5e+16</td> <td> 0.000</td> <td>    4.000</td> <td>    4.000</td>\n",
              "</tr>\n",
              "</table>\n",
              "<table class=\"simpletable\">\n",
              "<tr>\n",
              "  <th>Omnibus:</th>       <td>783.659</td> <th>  Durbin-Watson:     </th> <td>   1.835</td> \n",
              "</tr>\n",
              "<tr>\n",
              "  <th>Prob(Omnibus):</th> <td> 0.000</td>  <th>  Jarque-Bera (JB):  </th> <td>22761.830</td>\n",
              "</tr>\n",
              "<tr>\n",
              "  <th>Skew:</th>          <td>-4.034</td>  <th>  Prob(JB):          </th> <td>    0.00</td> \n",
              "</tr>\n",
              "<tr>\n",
              "  <th>Kurtosis:</th>      <td>26.528</td>  <th>  Cond. No.          </th> <td>1.28e+05</td> \n",
              "</tr>\n",
              "</table><br/><br/>Warnings:<br/>[1] Standard Errors assume that the covariance matrix of the errors is correctly specified.<br/>[2] The condition number is large, 1.28e+05. This might indicate that there are<br/>strong multicollinearity or other numerical problems."
            ],
            "text/plain": [
              "<class 'statsmodels.iolib.summary.Summary'>\n",
              "\"\"\"\n",
              "                            OLS Regression Results                            \n",
              "==============================================================================\n",
              "Dep. Variable:             annual_sal   R-squared:                       1.000\n",
              "Model:                            OLS   Adj. R-squared:                  1.000\n",
              "Method:                 Least Squares   F-statistic:                 6.526e+31\n",
              "Date:                Thu, 11 Mar 2021   Prob (F-statistic):               0.00\n",
              "Time:                        12:36:40   Log-Likelihood:                 21262.\n",
              "No. Observations:                 883   AIC:                        -4.251e+04\n",
              "Df Residuals:                     878   BIC:                        -4.249e+04\n",
              "Df Model:                           4                                         \n",
              "Covariance Type:            nonrobust                                         \n",
              "==============================================================================\n",
              "                 coef    std err          t      P>|t|      [0.025      0.975]\n",
              "------------------------------------------------------------------------------\n",
              "Intercept  -6.779e-12   1.03e-12     -6.570      0.000    -8.8e-12   -4.75e-12\n",
              "gender     -4.668e-12   5.82e-13     -8.014      0.000   -5.81e-12   -3.53e-12\n",
              "age         1.827e-13   2.42e-14      7.553      0.000    1.35e-13     2.3e-13\n",
              "balance     2.339e-16   9.95e-18     23.512      0.000    2.14e-16    2.53e-16\n",
              "amount         4.0000   2.67e-16    1.5e+16      0.000       4.000       4.000\n",
              "==============================================================================\n",
              "Omnibus:                      783.659   Durbin-Watson:                   1.835\n",
              "Prob(Omnibus):                  0.000   Jarque-Bera (JB):            22761.830\n",
              "Skew:                          -4.034   Prob(JB):                         0.00\n",
              "Kurtosis:                      26.528   Cond. No.                     1.28e+05\n",
              "==============================================================================\n",
              "\n",
              "Warnings:\n",
              "[1] Standard Errors assume that the covariance matrix of the errors is correctly specified.\n",
              "[2] The condition number is large, 1.28e+05. This might indicate that there are\n",
              "strong multicollinearity or other numerical problems.\n",
              "\"\"\""
            ]
          },
          "metadata": {
            "tags": []
          },
          "execution_count": 21
        }
      ]
    },
    {
      "cell_type": "markdown",
      "metadata": {
        "id": "akJpm9fkb1h7"
      },
      "source": [
        ""
      ]
    },
    {
      "cell_type": "markdown",
      "metadata": {
        "id": "It0IRp8eb8Kp"
      },
      "source": [
        "LinearRegression Model and apply CrossValidation"
      ]
    },
    {
      "cell_type": "code",
      "metadata": {
        "colab": {
          "base_uri": "https://localhost:8080/"
        },
        "id": "5pswZT6fmNF-",
        "outputId": "6c24acb0-bd4e-45e6-be8e-762803c0f240"
      },
      "source": [
        "fm1 = linear_model.LinearRegression()\r\n",
        "scores = cross_val_score(fm1, x,y, cv=5,scoring='neg_mean_squared_error')\r\n",
        "scores"
      ],
      "execution_count": 22,
      "outputs": [
        {
          "output_type": "execute_result",
          "data": {
            "text/plain": [
              "array([-2.60678726e-23, -7.63903632e-23, -2.45396915e-23, -3.37557838e-23,\n",
              "       -7.82273165e-23])"
            ]
          },
          "metadata": {
            "tags": []
          },
          "execution_count": 22
        }
      ]
    },
    {
      "cell_type": "code",
      "metadata": {
        "colab": {
          "base_uri": "https://localhost:8080/"
        },
        "id": "pjZLK50YozMb",
        "outputId": "c418790d-7acc-407a-c47b-cb72e314c7ea"
      },
      "source": [
        "fm1.fit(X_train, y_train)\r\n",
        "\r\n",
        "# print the coefficients\r\n",
        "print(fm1.intercept_)\r\n",
        "print(fm1.coef_)"
      ],
      "execution_count": 23,
      "outputs": [
        {
          "output_type": "stream",
          "text": [
            "5.4569682106375694e-12\n",
            "[ 1.78340333e-12  1.20431443e-13 -2.22044605e-16  4.00000000e+00]\n"
          ],
          "name": "stdout"
        }
      ]
    },
    {
      "cell_type": "code",
      "metadata": {
        "colab": {
          "base_uri": "https://localhost:8080/"
        },
        "id": "aIxStLW_2i0-",
        "outputId": "bf08e8ea-f714-4f6f-d6fc-364eeeb7442b"
      },
      "source": [
        "print(\"accuracy on train data\", (fm1.score(X_train , y_train)))"
      ],
      "execution_count": 24,
      "outputs": [
        {
          "output_type": "stream",
          "text": [
            "accuracy on train data 1.0\n"
          ],
          "name": "stdout"
        }
      ]
    },
    {
      "cell_type": "code",
      "metadata": {
        "colab": {
          "base_uri": "https://localhost:8080/"
        },
        "id": "euMt4egm2oFY",
        "outputId": "10d9cdbe-c7e6-4bed-b3f5-a86d7dd0c384"
      },
      "source": [
        "y_pred_fm1 = fm1.predict(X_test) # Making predictions\r\n",
        "print(\"accuracy on test data\", fm1.score(X_test , y_test))"
      ],
      "execution_count": 25,
      "outputs": [
        {
          "output_type": "stream",
          "text": [
            "accuracy on test data 1.0\n"
          ],
          "name": "stdout"
        }
      ]
    },
    {
      "cell_type": "code",
      "metadata": {
        "colab": {
          "base_uri": "https://localhost:8080/"
        },
        "id": "d9VrhW_Mml5Z",
        "outputId": "926a0e5b-9e2a-4842-886e-c084d8bab8e5"
      },
      "source": [
        "# pair the feature names with the coefficients\r\n",
        "list(zip(x, fm1.coef_))"
      ],
      "execution_count": 26,
      "outputs": [
        {
          "output_type": "execute_result",
          "data": {
            "text/plain": [
              "[('gender', 1.7834033255723245e-12),\n",
              " ('age', 1.2043144259621386e-13),\n",
              " ('balance', -2.220446049250313e-16),\n",
              " ('amount', 3.9999999999999964)]"
            ]
          },
          "metadata": {
            "tags": []
          },
          "execution_count": 26
        }
      ]
    },
    {
      "cell_type": "markdown",
      "metadata": {
        "id": "B2uGZ9KKcFZo"
      },
      "source": [
        "**DecisionTreeRegressor Model with max_depth 5 **"
      ]
    },
    {
      "cell_type": "code",
      "metadata": {
        "id": "BGDrJPXw5J6K",
        "colab": {
          "base_uri": "https://localhost:8080/"
        },
        "outputId": "b8c462e8-286e-4740-ff59-aac18357fa98"
      },
      "source": [
        "dt = DecisionTreeRegressor(max_depth=5)\r\n",
        "dt_scores = cross_val_score(dt, x,y, cv=5)\r\n",
        "dt_scores"
      ],
      "execution_count": 28,
      "outputs": [
        {
          "output_type": "execute_result",
          "data": {
            "text/plain": [
              "array([0.99853323, 0.9982717 , 0.99869871, 0.99701699, 0.9988111 ])"
            ]
          },
          "metadata": {
            "tags": []
          },
          "execution_count": 28
        }
      ]
    },
    {
      "cell_type": "code",
      "metadata": {
        "id": "MtscZDMi33gI",
        "colab": {
          "base_uri": "https://localhost:8080/"
        },
        "outputId": "d5616603-fa01-463c-bbff-f8a35cc7c240"
      },
      "source": [
        "dt.fit(X_train, y_train) # Fit the model\r\n",
        "y_pred_train_dt = dt.predict(X_train) #train model prediction\r\n",
        "print(\"accuracy on train data\", (dt.score(X_train , y_train))) # Model Score on train data \r\n",
        "y_pred_dt = dt.predict(X_test) # Making predictions\r\n",
        "print(\" accuracy on test Data\", dt.score(X_test , y_test)) # Model Score on test data "
      ],
      "execution_count": 29,
      "outputs": [
        {
          "output_type": "stream",
          "text": [
            "accuracy on train data 0.9980306118489596\n",
            " accuracy on test Data 0.9975505932575178\n"
          ],
          "name": "stdout"
        }
      ]
    }
  ]
}