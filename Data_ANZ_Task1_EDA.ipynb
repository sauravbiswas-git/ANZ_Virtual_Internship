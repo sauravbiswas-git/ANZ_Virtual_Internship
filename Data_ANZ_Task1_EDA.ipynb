{
  "nbformat": 4,
  "nbformat_minor": 0,
  "metadata": {
    "colab": {
      "name": "Data@ANZ.ipynb",
      "provenance": [],
      "collapsed_sections": []
    },
    "kernelspec": {
      "name": "python3",
      "display_name": "Python 3"
    }
  },
  "cells": [
    {
      "cell_type": "markdown",
      "metadata": {
        "id": "hpilCz_GiIW6"
      },
      "source": [
        "This task is totally based on python 3.9 which is used as a stastical software for data analytics,visualization and predictive modiling. In this task we extract several information from dataset like annual income and correlation between others atributes of coustomer. And visualizing the correlation. Once i get the points of correlation between several atributes ,bulid a machinelearning model which is predict the anual income of a coustomer. And check the accuracy of the model over the test dataset."
      ]
    },
    {
      "cell_type": "markdown",
      "metadata": {
        "id": "wtGzDRFwh1Ej"
      },
      "source": [
        "This task is based on a synthesised transaction dataset containing 3 months’ worth of transactions for 100 hypothetical customers. It contains purchases, recurring transactions, and salary transactions.\r\n",
        "\r\n",
        "The dataset is designed to simulate realistic transaction behaviours that are observed in ANZ’s real transaction data."
      ]
    },
    {
      "cell_type": "code",
      "metadata": {
        "id": "uxiXqrephLsy"
      },
      "source": [
        "#import our necessary libraries\r\n",
        "import numpy as np\r\n",
        "import pandas as pd\r\n",
        "import matplotlib.pyplot as plt\r\n",
        "% matplotlib inline\r\n",
        "import seaborn as sns\r\n",
        "import warnings\r\n",
        "warnings.filterwarnings(\"ignore\")"
      ],
      "execution_count": 10,
      "outputs": []
    },
    {
      "cell_type": "markdown",
      "metadata": {
        "id": "bRQUfUkdnmuh"
      },
      "source": [
        "**Load Dataset & put it on pandas dataframe**"
      ]
    },
    {
      "cell_type": "markdown",
      "metadata": {
        "id": "8y05LzaPOPZU"
      },
      "source": [
        "**Mounting Drive into the Colab** meaning that setting up the google drive account as a virtual drive so that i can access the resources of the drive just like a local hard drive."
      ]
    },
    {
      "cell_type": "code",
      "metadata": {
        "colab": {
          "base_uri": "https://localhost:8080/",
          "height": 804
        },
        "id": "geV49tqOmJ9t",
        "outputId": "167cee04-399d-4958-a93b-56fd91687307"
      },
      "source": [
        "#import it into a dataframe and featch first five rows of dataset\r\n",
        "data = pd.read_excel('/content/ANZ synthesised transaction dataset.xlsx')\r\n",
        "data.head(10) "
      ],
      "execution_count": 2,
      "outputs": [
        {
          "output_type": "execute_result",
          "data": {
            "text/html": [
              "<div>\n",
              "<style scoped>\n",
              "    .dataframe tbody tr th:only-of-type {\n",
              "        vertical-align: middle;\n",
              "    }\n",
              "\n",
              "    .dataframe tbody tr th {\n",
              "        vertical-align: top;\n",
              "    }\n",
              "\n",
              "    .dataframe thead th {\n",
              "        text-align: right;\n",
              "    }\n",
              "</style>\n",
              "<table border=\"1\" class=\"dataframe\">\n",
              "  <thead>\n",
              "    <tr style=\"text-align: right;\">\n",
              "      <th></th>\n",
              "      <th>status</th>\n",
              "      <th>card_present_flag</th>\n",
              "      <th>bpay_biller_code</th>\n",
              "      <th>account</th>\n",
              "      <th>currency</th>\n",
              "      <th>long_lat</th>\n",
              "      <th>txn_description</th>\n",
              "      <th>merchant_id</th>\n",
              "      <th>merchant_code</th>\n",
              "      <th>first_name</th>\n",
              "      <th>balance</th>\n",
              "      <th>date</th>\n",
              "      <th>gender</th>\n",
              "      <th>age</th>\n",
              "      <th>merchant_suburb</th>\n",
              "      <th>merchant_state</th>\n",
              "      <th>extraction</th>\n",
              "      <th>amount</th>\n",
              "      <th>transaction_id</th>\n",
              "      <th>country</th>\n",
              "      <th>customer_id</th>\n",
              "      <th>merchant_long_lat</th>\n",
              "      <th>movement</th>\n",
              "    </tr>\n",
              "  </thead>\n",
              "  <tbody>\n",
              "    <tr>\n",
              "      <th>0</th>\n",
              "      <td>authorized</td>\n",
              "      <td>1.0</td>\n",
              "      <td>NaN</td>\n",
              "      <td>ACC-1598451071</td>\n",
              "      <td>AUD</td>\n",
              "      <td>153.41 -27.95</td>\n",
              "      <td>POS</td>\n",
              "      <td>81c48296-73be-44a7-befa-d053f48ce7cd</td>\n",
              "      <td>NaN</td>\n",
              "      <td>Diana</td>\n",
              "      <td>35.39</td>\n",
              "      <td>2018-08-01</td>\n",
              "      <td>F</td>\n",
              "      <td>26</td>\n",
              "      <td>Ashmore</td>\n",
              "      <td>QLD</td>\n",
              "      <td>2018-08-01T01:01:15.000+0000</td>\n",
              "      <td>16.25</td>\n",
              "      <td>a623070bfead4541a6b0fff8a09e706c</td>\n",
              "      <td>Australia</td>\n",
              "      <td>CUS-2487424745</td>\n",
              "      <td>153.38 -27.99</td>\n",
              "      <td>debit</td>\n",
              "    </tr>\n",
              "    <tr>\n",
              "      <th>1</th>\n",
              "      <td>authorized</td>\n",
              "      <td>0.0</td>\n",
              "      <td>NaN</td>\n",
              "      <td>ACC-1598451071</td>\n",
              "      <td>AUD</td>\n",
              "      <td>153.41 -27.95</td>\n",
              "      <td>SALES-POS</td>\n",
              "      <td>830a451c-316e-4a6a-bf25-e37caedca49e</td>\n",
              "      <td>NaN</td>\n",
              "      <td>Diana</td>\n",
              "      <td>21.20</td>\n",
              "      <td>2018-08-01</td>\n",
              "      <td>F</td>\n",
              "      <td>26</td>\n",
              "      <td>Sydney</td>\n",
              "      <td>NSW</td>\n",
              "      <td>2018-08-01T01:13:45.000+0000</td>\n",
              "      <td>14.19</td>\n",
              "      <td>13270a2a902145da9db4c951e04b51b9</td>\n",
              "      <td>Australia</td>\n",
              "      <td>CUS-2487424745</td>\n",
              "      <td>151.21 -33.87</td>\n",
              "      <td>debit</td>\n",
              "    </tr>\n",
              "    <tr>\n",
              "      <th>2</th>\n",
              "      <td>authorized</td>\n",
              "      <td>1.0</td>\n",
              "      <td>NaN</td>\n",
              "      <td>ACC-1222300524</td>\n",
              "      <td>AUD</td>\n",
              "      <td>151.23 -33.94</td>\n",
              "      <td>POS</td>\n",
              "      <td>835c231d-8cdf-4e96-859d-e9d571760cf0</td>\n",
              "      <td>NaN</td>\n",
              "      <td>Michael</td>\n",
              "      <td>5.71</td>\n",
              "      <td>2018-08-01</td>\n",
              "      <td>M</td>\n",
              "      <td>38</td>\n",
              "      <td>Sydney</td>\n",
              "      <td>NSW</td>\n",
              "      <td>2018-08-01T01:26:15.000+0000</td>\n",
              "      <td>6.42</td>\n",
              "      <td>feb79e7ecd7048a5a36ec889d1a94270</td>\n",
              "      <td>Australia</td>\n",
              "      <td>CUS-2142601169</td>\n",
              "      <td>151.21 -33.87</td>\n",
              "      <td>debit</td>\n",
              "    </tr>\n",
              "    <tr>\n",
              "      <th>3</th>\n",
              "      <td>authorized</td>\n",
              "      <td>1.0</td>\n",
              "      <td>NaN</td>\n",
              "      <td>ACC-1037050564</td>\n",
              "      <td>AUD</td>\n",
              "      <td>153.10 -27.66</td>\n",
              "      <td>SALES-POS</td>\n",
              "      <td>48514682-c78a-4a88-b0da-2d6302e64673</td>\n",
              "      <td>NaN</td>\n",
              "      <td>Rhonda</td>\n",
              "      <td>2117.22</td>\n",
              "      <td>2018-08-01</td>\n",
              "      <td>F</td>\n",
              "      <td>40</td>\n",
              "      <td>Buderim</td>\n",
              "      <td>QLD</td>\n",
              "      <td>2018-08-01T01:38:45.000+0000</td>\n",
              "      <td>40.90</td>\n",
              "      <td>2698170da3704fd981b15e64a006079e</td>\n",
              "      <td>Australia</td>\n",
              "      <td>CUS-1614226872</td>\n",
              "      <td>153.05 -26.68</td>\n",
              "      <td>debit</td>\n",
              "    </tr>\n",
              "    <tr>\n",
              "      <th>4</th>\n",
              "      <td>authorized</td>\n",
              "      <td>1.0</td>\n",
              "      <td>NaN</td>\n",
              "      <td>ACC-1598451071</td>\n",
              "      <td>AUD</td>\n",
              "      <td>153.41 -27.95</td>\n",
              "      <td>SALES-POS</td>\n",
              "      <td>b4e02c10-0852-4273-b8fd-7b3395e32eb0</td>\n",
              "      <td>NaN</td>\n",
              "      <td>Diana</td>\n",
              "      <td>17.95</td>\n",
              "      <td>2018-08-01</td>\n",
              "      <td>F</td>\n",
              "      <td>26</td>\n",
              "      <td>Mermaid Beach</td>\n",
              "      <td>QLD</td>\n",
              "      <td>2018-08-01T01:51:15.000+0000</td>\n",
              "      <td>3.25</td>\n",
              "      <td>329adf79878c4cf0aeb4188b4691c266</td>\n",
              "      <td>Australia</td>\n",
              "      <td>CUS-2487424745</td>\n",
              "      <td>153.44 -28.06</td>\n",
              "      <td>debit</td>\n",
              "    </tr>\n",
              "    <tr>\n",
              "      <th>5</th>\n",
              "      <td>posted</td>\n",
              "      <td>NaN</td>\n",
              "      <td>NaN</td>\n",
              "      <td>ACC-1608363396</td>\n",
              "      <td>AUD</td>\n",
              "      <td>151.22 -33.87</td>\n",
              "      <td>PAYMENT</td>\n",
              "      <td>NaN</td>\n",
              "      <td>NaN</td>\n",
              "      <td>Robert</td>\n",
              "      <td>1705.43</td>\n",
              "      <td>2018-08-01</td>\n",
              "      <td>M</td>\n",
              "      <td>20</td>\n",
              "      <td>NaN</td>\n",
              "      <td>NaN</td>\n",
              "      <td>2018-08-01T02:00:00.000+0000</td>\n",
              "      <td>163.00</td>\n",
              "      <td>1005b48a6eda4ffd85e9b649dc9467d3</td>\n",
              "      <td>Australia</td>\n",
              "      <td>CUS-2688605418</td>\n",
              "      <td>NaN</td>\n",
              "      <td>debit</td>\n",
              "    </tr>\n",
              "    <tr>\n",
              "      <th>6</th>\n",
              "      <td>authorized</td>\n",
              "      <td>1.0</td>\n",
              "      <td>NaN</td>\n",
              "      <td>ACC-2776252858</td>\n",
              "      <td>AUD</td>\n",
              "      <td>144.95 -37.76</td>\n",
              "      <td>SALES-POS</td>\n",
              "      <td>3aa18033-a0a9-4190-a117-b7caaf4d07e3</td>\n",
              "      <td>NaN</td>\n",
              "      <td>Kristin</td>\n",
              "      <td>1248.36</td>\n",
              "      <td>2018-08-01</td>\n",
              "      <td>F</td>\n",
              "      <td>43</td>\n",
              "      <td>Kalkallo</td>\n",
              "      <td>VIC</td>\n",
              "      <td>2018-08-01T02:23:04.000+0000</td>\n",
              "      <td>61.06</td>\n",
              "      <td>b79ca208099c4c28aa5dae966096d842</td>\n",
              "      <td>Australia</td>\n",
              "      <td>CUS-4123612273</td>\n",
              "      <td>144.95 -37.53</td>\n",
              "      <td>debit</td>\n",
              "    </tr>\n",
              "    <tr>\n",
              "      <th>7</th>\n",
              "      <td>authorized</td>\n",
              "      <td>1.0</td>\n",
              "      <td>NaN</td>\n",
              "      <td>ACC-2776252858</td>\n",
              "      <td>AUD</td>\n",
              "      <td>144.95 -37.76</td>\n",
              "      <td>POS</td>\n",
              "      <td>ee58145d-26e8-4b01-9cd9-62378014f21d</td>\n",
              "      <td>NaN</td>\n",
              "      <td>Kristin</td>\n",
              "      <td>1232.75</td>\n",
              "      <td>2018-08-01</td>\n",
              "      <td>F</td>\n",
              "      <td>43</td>\n",
              "      <td>Melbourne</td>\n",
              "      <td>VIC</td>\n",
              "      <td>2018-08-01T04:11:25.000+0000</td>\n",
              "      <td>15.61</td>\n",
              "      <td>e1c4a50d6a0549cbb3710a62a2fa00d5</td>\n",
              "      <td>Australia</td>\n",
              "      <td>CUS-4123612273</td>\n",
              "      <td>144.96 -37.81</td>\n",
              "      <td>debit</td>\n",
              "    </tr>\n",
              "    <tr>\n",
              "      <th>8</th>\n",
              "      <td>authorized</td>\n",
              "      <td>1.0</td>\n",
              "      <td>NaN</td>\n",
              "      <td>ACC-182446574</td>\n",
              "      <td>AUD</td>\n",
              "      <td>116.06 -32.00</td>\n",
              "      <td>POS</td>\n",
              "      <td>cfbf535e-caa8-499f-9d41-bbdc2b836d85</td>\n",
              "      <td>NaN</td>\n",
              "      <td>Tonya</td>\n",
              "      <td>213.16</td>\n",
              "      <td>2018-08-01</td>\n",
              "      <td>F</td>\n",
              "      <td>27</td>\n",
              "      <td>Yokine</td>\n",
              "      <td>WA</td>\n",
              "      <td>2018-08-01T04:40:00.000+0000</td>\n",
              "      <td>19.25</td>\n",
              "      <td>799e39eb2c1b411185424b0f2cd18bda</td>\n",
              "      <td>Australia</td>\n",
              "      <td>CUS-3026014945</td>\n",
              "      <td>115.85 -31.9</td>\n",
              "      <td>debit</td>\n",
              "    </tr>\n",
              "    <tr>\n",
              "      <th>9</th>\n",
              "      <td>posted</td>\n",
              "      <td>NaN</td>\n",
              "      <td>NaN</td>\n",
              "      <td>ACC-602667573</td>\n",
              "      <td>AUD</td>\n",
              "      <td>151.23 -33.96</td>\n",
              "      <td>INTER BANK</td>\n",
              "      <td>NaN</td>\n",
              "      <td>NaN</td>\n",
              "      <td>Michael</td>\n",
              "      <td>466.58</td>\n",
              "      <td>2018-08-01</td>\n",
              "      <td>M</td>\n",
              "      <td>40</td>\n",
              "      <td>NaN</td>\n",
              "      <td>NaN</td>\n",
              "      <td>2018-08-01T06:00:00.000+0000</td>\n",
              "      <td>21.00</td>\n",
              "      <td>798a77869014441b840a7a8a23408332</td>\n",
              "      <td>Australia</td>\n",
              "      <td>CUS-2031327464</td>\n",
              "      <td>NaN</td>\n",
              "      <td>debit</td>\n",
              "    </tr>\n",
              "  </tbody>\n",
              "</table>\n",
              "</div>"
            ],
            "text/plain": [
              "       status  card_present_flag  ... merchant_long_lat movement\n",
              "0  authorized                1.0  ...     153.38 -27.99    debit\n",
              "1  authorized                0.0  ...     151.21 -33.87    debit\n",
              "2  authorized                1.0  ...     151.21 -33.87    debit\n",
              "3  authorized                1.0  ...     153.05 -26.68    debit\n",
              "4  authorized                1.0  ...     153.44 -28.06    debit\n",
              "5      posted                NaN  ...               NaN    debit\n",
              "6  authorized                1.0  ...     144.95 -37.53    debit\n",
              "7  authorized                1.0  ...     144.96 -37.81    debit\n",
              "8  authorized                1.0  ...      115.85 -31.9    debit\n",
              "9      posted                NaN  ...               NaN    debit\n",
              "\n",
              "[10 rows x 23 columns]"
            ]
          },
          "metadata": {
            "tags": []
          },
          "execution_count": 2
        }
      ]
    },
    {
      "cell_type": "markdown",
      "metadata": {
        "id": "Rx6zvnqOKw4h"
      },
      "source": [
        "data.columns attribute to return the column labels of the given Dataframe."
      ]
    },
    {
      "cell_type": "code",
      "metadata": {
        "colab": {
          "base_uri": "https://localhost:8080/"
        },
        "id": "u6TcRnlMPGx8",
        "outputId": "10ed5c97-ce97-4516-c2f4-c432b3663210"
      },
      "source": [
        "data.columns"
      ],
      "execution_count": null,
      "outputs": [
        {
          "output_type": "execute_result",
          "data": {
            "text/plain": [
              "Index(['status', 'card_present_flag', 'bpay_biller_code', 'account',\n",
              "       'currency', 'long_lat', 'txn_description', 'merchant_id',\n",
              "       'merchant_code', 'first_name', 'balance', 'date', 'gender', 'age',\n",
              "       'merchant_suburb', 'merchant_state', 'extraction', 'amount',\n",
              "       'transaction_id', 'country', 'customer_id', 'merchant_long_lat',\n",
              "       'movement'],\n",
              "      dtype='object')"
            ]
          },
          "metadata": {
            "tags": []
          },
          "execution_count": 4
        }
      ]
    },
    {
      "cell_type": "markdown",
      "metadata": {
        "id": "Xsg1N9qnQC-4"
      },
      "source": [
        "data.describe()  calculating some statistical data like percentile, mean and std of the numerical values of the dataframe."
      ]
    },
    {
      "cell_type": "code",
      "metadata": {
        "colab": {
          "base_uri": "https://localhost:8080/",
          "height": 297
        },
        "id": "f3KUH9bGmxrd",
        "outputId": "1788b56c-d242-4c97-d8da-ba35c2cb04e8"
      },
      "source": [
        "data.describe().round(2)"
      ],
      "execution_count": null,
      "outputs": [
        {
          "output_type": "execute_result",
          "data": {
            "text/html": [
              "<div>\n",
              "<style scoped>\n",
              "    .dataframe tbody tr th:only-of-type {\n",
              "        vertical-align: middle;\n",
              "    }\n",
              "\n",
              "    .dataframe tbody tr th {\n",
              "        vertical-align: top;\n",
              "    }\n",
              "\n",
              "    .dataframe thead th {\n",
              "        text-align: right;\n",
              "    }\n",
              "</style>\n",
              "<table border=\"1\" class=\"dataframe\">\n",
              "  <thead>\n",
              "    <tr style=\"text-align: right;\">\n",
              "      <th></th>\n",
              "      <th>card_present_flag</th>\n",
              "      <th>merchant_code</th>\n",
              "      <th>balance</th>\n",
              "      <th>age</th>\n",
              "      <th>amount</th>\n",
              "    </tr>\n",
              "  </thead>\n",
              "  <tbody>\n",
              "    <tr>\n",
              "      <th>count</th>\n",
              "      <td>7717.0</td>\n",
              "      <td>883.0</td>\n",
              "      <td>12043.00</td>\n",
              "      <td>12043.00</td>\n",
              "      <td>12043.00</td>\n",
              "    </tr>\n",
              "    <tr>\n",
              "      <th>mean</th>\n",
              "      <td>0.8</td>\n",
              "      <td>0.0</td>\n",
              "      <td>14704.20</td>\n",
              "      <td>30.58</td>\n",
              "      <td>187.93</td>\n",
              "    </tr>\n",
              "    <tr>\n",
              "      <th>std</th>\n",
              "      <td>0.4</td>\n",
              "      <td>0.0</td>\n",
              "      <td>31503.72</td>\n",
              "      <td>10.05</td>\n",
              "      <td>592.60</td>\n",
              "    </tr>\n",
              "    <tr>\n",
              "      <th>min</th>\n",
              "      <td>0.0</td>\n",
              "      <td>0.0</td>\n",
              "      <td>0.24</td>\n",
              "      <td>18.00</td>\n",
              "      <td>0.10</td>\n",
              "    </tr>\n",
              "    <tr>\n",
              "      <th>25%</th>\n",
              "      <td>1.0</td>\n",
              "      <td>0.0</td>\n",
              "      <td>3158.58</td>\n",
              "      <td>22.00</td>\n",
              "      <td>16.00</td>\n",
              "    </tr>\n",
              "    <tr>\n",
              "      <th>50%</th>\n",
              "      <td>1.0</td>\n",
              "      <td>0.0</td>\n",
              "      <td>6432.01</td>\n",
              "      <td>28.00</td>\n",
              "      <td>29.00</td>\n",
              "    </tr>\n",
              "    <tr>\n",
              "      <th>75%</th>\n",
              "      <td>1.0</td>\n",
              "      <td>0.0</td>\n",
              "      <td>12465.94</td>\n",
              "      <td>38.00</td>\n",
              "      <td>53.66</td>\n",
              "    </tr>\n",
              "    <tr>\n",
              "      <th>max</th>\n",
              "      <td>1.0</td>\n",
              "      <td>0.0</td>\n",
              "      <td>267128.52</td>\n",
              "      <td>78.00</td>\n",
              "      <td>8835.98</td>\n",
              "    </tr>\n",
              "  </tbody>\n",
              "</table>\n",
              "</div>"
            ],
            "text/plain": [
              "       card_present_flag  merchant_code    balance       age    amount\n",
              "count             7717.0          883.0   12043.00  12043.00  12043.00\n",
              "mean                 0.8            0.0   14704.20     30.58    187.93\n",
              "std                  0.4            0.0   31503.72     10.05    592.60\n",
              "min                  0.0            0.0       0.24     18.00      0.10\n",
              "25%                  1.0            0.0    3158.58     22.00     16.00\n",
              "50%                  1.0            0.0    6432.01     28.00     29.00\n",
              "75%                  1.0            0.0   12465.94     38.00     53.66\n",
              "max                  1.0            0.0  267128.52     78.00   8835.98"
            ]
          },
          "metadata": {
            "tags": []
          },
          "execution_count": 3
        }
      ]
    },
    {
      "cell_type": "markdown",
      "metadata": {
        "id": "aU5LKD5nRfk2"
      },
      "source": [
        "Shape of the dataset with rows and columns"
      ]
    },
    {
      "cell_type": "code",
      "metadata": {
        "id": "nUms9AosopQg",
        "colab": {
          "base_uri": "https://localhost:8080/"
        },
        "outputId": "5233540b-123b-429e-c9b3-1314560177ce"
      },
      "source": [
        "\r\n",
        "data.shape"
      ],
      "execution_count": null,
      "outputs": [
        {
          "output_type": "execute_result",
          "data": {
            "text/plain": [
              "(12043, 23)"
            ]
          },
          "metadata": {
            "tags": []
          },
          "execution_count": 6
        }
      ]
    },
    {
      "cell_type": "markdown",
      "metadata": {
        "id": "A58XQDP6Qf-V"
      },
      "source": [
        "In this Exploryay Data Analysis **(EDA)** problem ,i will analyze \r\n",
        "*   Missing value\r\n",
        "*   All the numerical variable \r\n",
        "*   Distribution of numerical variable\r\n",
        "\r\n",
        "\r\n",
        "\r\n",
        "\r\n"
      ]
    },
    {
      "cell_type": "code",
      "metadata": {
        "colab": {
          "base_uri": "https://localhost:8080/"
        },
        "id": "elPPCOA9OC8-",
        "outputId": "6389d428-a825-4c20-ef2f-fc022505906a"
      },
      "source": [
        "data.info()"
      ],
      "execution_count": null,
      "outputs": [
        {
          "output_type": "stream",
          "text": [
            "<class 'pandas.core.frame.DataFrame'>\n",
            "RangeIndex: 12043 entries, 0 to 12042\n",
            "Data columns (total 23 columns):\n",
            " #   Column             Non-Null Count  Dtype         \n",
            "---  ------             --------------  -----         \n",
            " 0   status             12043 non-null  object        \n",
            " 1   card_present_flag  7717 non-null   float64       \n",
            " 2   bpay_biller_code   885 non-null    object        \n",
            " 3   account            12043 non-null  object        \n",
            " 4   currency           12043 non-null  object        \n",
            " 5   long_lat           12043 non-null  object        \n",
            " 6   txn_description    12043 non-null  object        \n",
            " 7   merchant_id        7717 non-null   object        \n",
            " 8   merchant_code      883 non-null    float64       \n",
            " 9   first_name         12043 non-null  object        \n",
            " 10  balance            12043 non-null  float64       \n",
            " 11  date               12043 non-null  datetime64[ns]\n",
            " 12  gender             12043 non-null  object        \n",
            " 13  age                12043 non-null  int64         \n",
            " 14  merchant_suburb    7717 non-null   object        \n",
            " 15  merchant_state     7717 non-null   object        \n",
            " 16  extraction         12043 non-null  object        \n",
            " 17  amount             12043 non-null  float64       \n",
            " 18  transaction_id     12043 non-null  object        \n",
            " 19  country            12043 non-null  object        \n",
            " 20  customer_id        12043 non-null  object        \n",
            " 21  merchant_long_lat  7717 non-null   object        \n",
            " 22  movement           12043 non-null  object        \n",
            "dtypes: datetime64[ns](1), float64(4), int64(1), object(17)\n",
            "memory usage: 2.1+ MB\n"
          ],
          "name": "stdout"
        }
      ]
    },
    {
      "cell_type": "markdown",
      "metadata": {
        "id": "wCyS3hyaA3zu"
      },
      "source": [
        "Number of unique value prest in each features"
      ]
    },
    {
      "cell_type": "code",
      "metadata": {
        "colab": {
          "base_uri": "https://localhost:8080/"
        },
        "id": "nQj03Nnu8PYM",
        "outputId": "d99c4334-b259-4f95-a11a-d8053aef96a2"
      },
      "source": [
        "data.nunique()"
      ],
      "execution_count": null,
      "outputs": [
        {
          "output_type": "execute_result",
          "data": {
            "text/plain": [
              "status                   2\n",
              "card_present_flag        2\n",
              "bpay_biller_code         3\n",
              "account                100\n",
              "currency                 1\n",
              "long_lat               100\n",
              "txn_description          6\n",
              "merchant_id           5725\n",
              "merchant_code            1\n",
              "first_name              80\n",
              "balance              12006\n",
              "date                    91\n",
              "gender                   2\n",
              "age                     33\n",
              "merchant_suburb       1609\n",
              "merchant_state           8\n",
              "extraction            9442\n",
              "amount                4457\n",
              "transaction_id       12043\n",
              "country                  1\n",
              "customer_id            100\n",
              "merchant_long_lat     2703\n",
              "movement                 2\n",
              "dtype: int64"
            ]
          },
          "metadata": {
            "tags": []
          },
          "execution_count": 8
        }
      ]
    },
    {
      "cell_type": "markdown",
      "metadata": {
        "id": "7RPhZloiBD2M"
      },
      "source": [
        "Total missing value in dataset, according to each features."
      ]
    },
    {
      "cell_type": "code",
      "metadata": {
        "colab": {
          "base_uri": "https://localhost:8080/"
        },
        "id": "Ue88m1I7Ouot",
        "outputId": "6185546a-738f-45cf-8171-aabd5f82b944"
      },
      "source": [
        "data.isnull().sum()"
      ],
      "execution_count": null,
      "outputs": [
        {
          "output_type": "execute_result",
          "data": {
            "text/plain": [
              "status                   0\n",
              "card_present_flag     4326\n",
              "bpay_biller_code     11158\n",
              "account                  0\n",
              "currency                 0\n",
              "long_lat                 0\n",
              "txn_description          0\n",
              "merchant_id           4326\n",
              "merchant_code        11160\n",
              "first_name               0\n",
              "balance                  0\n",
              "date                     0\n",
              "gender                   0\n",
              "age                      0\n",
              "merchant_suburb       4326\n",
              "merchant_state        4326\n",
              "extraction               0\n",
              "amount                   0\n",
              "transaction_id           0\n",
              "country                  0\n",
              "customer_id              0\n",
              "merchant_long_lat     4326\n",
              "movement                 0\n",
              "dtype: int64"
            ]
          },
          "metadata": {
            "tags": []
          },
          "execution_count": 43
        }
      ]
    },
    {
      "cell_type": "markdown",
      "metadata": {
        "id": "IM15Y95BBU9_"
      },
      "source": [
        "Seaborn heatmap representation of missing value present in dataframe.\r\n",
        "Yellow lines repesnt the missing values."
      ]
    },
    {
      "cell_type": "code",
      "metadata": {
        "colab": {
          "base_uri": "https://localhost:8080/",
          "height": 365
        },
        "id": "weUqHXwjQDb1",
        "outputId": "9e257f51-dc3b-4c5f-8f2e-620add4d4857"
      },
      "source": [
        "sns.heatmap(data.isnull(),yticklabels=False,cbar=False,cmap='viridis')"
      ],
      "execution_count": null,
      "outputs": [
        {
          "output_type": "execute_result",
          "data": {
            "text/plain": [
              "<matplotlib.axes._subplots.AxesSubplot at 0x7f9801968828>"
            ]
          },
          "metadata": {
            "tags": []
          },
          "execution_count": 10
        },
        {
          "output_type": "display_data",
          "data": {
            "image/png": "[encoded data removed]",
            "text/plain": [
              "<Figure size 432x288 with 1 Axes>"
            ]
          },
          "metadata": {
            "tags": [],
            "needs_background": "light"
          }
        }
      ]
    },
    {
      "cell_type": "markdown",
      "metadata": {
        "id": "on0U7pLmTlYz"
      },
      "source": [
        "Now, i will cheek percentage of missing values value in each features."
      ]
    },
    {
      "cell_type": "code",
      "metadata": {
        "id": "VWM_-tbeQ4t_",
        "colab": {
          "base_uri": "https://localhost:8080/"
        },
        "outputId": "cbb1b596-1166-48a7-d938-096e60008121"
      },
      "source": [
        "nan_value_features = [features for features in data.columns if data[features].isnull().sum()>1]\r\n",
        "\r\n",
        "for feature in nan_value_features:\r\n",
        "  print(feature, np.round(data[feature].isnull().mean(), 2),  ' % missing values')"
      ],
      "execution_count": null,
      "outputs": [
        {
          "output_type": "stream",
          "text": [
            "card_present_flag 0.36  % missing values\n",
            "bpay_biller_code 0.93  % missing values\n",
            "merchant_id 0.36  % missing values\n",
            "merchant_code 0.93  % missing values\n",
            "merchant_suburb 0.36  % missing values\n",
            "merchant_state 0.36  % missing values\n",
            "merchant_long_lat 0.36  % missing values\n"
          ],
          "name": "stdout"
        }
      ]
    },
    {
      "cell_type": "markdown",
      "metadata": {
        "id": "gN_SsvczB4-C"
      },
      "source": [
        "Drop down the unnecessary features which has higher order of missing value.\r\n",
        "Grouping the dataframe according to date, ammount, first_name, card flag,balance and gender & their age."
      ]
    },
    {
      "cell_type": "code",
      "metadata": {
        "id": "OVLJUt8kstAi",
        "colab": {
          "base_uri": "https://localhost:8080/",
          "height": 450
        },
        "outputId": "371c2b93-05a3-45fa-f4be-c30c44cb22fa"
      },
      "source": [
        "f_data=data.drop(['merchant_id','merchant_code','bpay_biller_code'],axis=1)\r\n",
        "f_data.groupby([pd.Grouper(key='date', freq='M'),'amount' ,'first_name','gender']).sum()"
      ],
      "execution_count": 4,
      "outputs": [
        {
          "output_type": "execute_result",
          "data": {
            "text/html": [
              "<div>\n",
              "<style scoped>\n",
              "    .dataframe tbody tr th:only-of-type {\n",
              "        vertical-align: middle;\n",
              "    }\n",
              "\n",
              "    .dataframe tbody tr th {\n",
              "        vertical-align: top;\n",
              "    }\n",
              "\n",
              "    .dataframe thead th {\n",
              "        text-align: right;\n",
              "    }\n",
              "</style>\n",
              "<table border=\"1\" class=\"dataframe\">\n",
              "  <thead>\n",
              "    <tr style=\"text-align: right;\">\n",
              "      <th></th>\n",
              "      <th></th>\n",
              "      <th></th>\n",
              "      <th></th>\n",
              "      <th>card_present_flag</th>\n",
              "      <th>balance</th>\n",
              "      <th>age</th>\n",
              "    </tr>\n",
              "    <tr>\n",
              "      <th>date</th>\n",
              "      <th>amount</th>\n",
              "      <th>first_name</th>\n",
              "      <th>gender</th>\n",
              "      <th></th>\n",
              "      <th></th>\n",
              "      <th></th>\n",
              "    </tr>\n",
              "  </thead>\n",
              "  <tbody>\n",
              "    <tr>\n",
              "      <th rowspan=\"5\" valign=\"top\">2018-08-31</th>\n",
              "      <th>1.52</th>\n",
              "      <th>Edward</th>\n",
              "      <th>M</th>\n",
              "      <td>0.0</td>\n",
              "      <td>5054.84</td>\n",
              "      <td>19</td>\n",
              "    </tr>\n",
              "    <tr>\n",
              "      <th>1.59</th>\n",
              "      <th>Diana</th>\n",
              "      <th>F</th>\n",
              "      <td>1.0</td>\n",
              "      <td>1298.54</td>\n",
              "      <td>26</td>\n",
              "    </tr>\n",
              "    <tr>\n",
              "      <th>1.71</th>\n",
              "      <th>Jessica</th>\n",
              "      <th>F</th>\n",
              "      <td>0.0</td>\n",
              "      <td>2070.40</td>\n",
              "      <td>21</td>\n",
              "    </tr>\n",
              "    <tr>\n",
              "      <th>1.90</th>\n",
              "      <th>Tonya</th>\n",
              "      <th>F</th>\n",
              "      <td>1.0</td>\n",
              "      <td>2721.99</td>\n",
              "      <td>27</td>\n",
              "    </tr>\n",
              "    <tr>\n",
              "      <th>2.00</th>\n",
              "      <th>Diana</th>\n",
              "      <th>F</th>\n",
              "      <td>1.0</td>\n",
              "      <td>536.62</td>\n",
              "      <td>26</td>\n",
              "    </tr>\n",
              "    <tr>\n",
              "      <th>...</th>\n",
              "      <th>...</th>\n",
              "      <th>...</th>\n",
              "      <th>...</th>\n",
              "      <td>...</td>\n",
              "      <td>...</td>\n",
              "      <td>...</td>\n",
              "    </tr>\n",
              "    <tr>\n",
              "      <th rowspan=\"5\" valign=\"top\">2018-10-31</th>\n",
              "      <th>4910.90</th>\n",
              "      <th>Jacqueline</th>\n",
              "      <th>F</th>\n",
              "      <td>0.0</td>\n",
              "      <td>7397.59</td>\n",
              "      <td>30</td>\n",
              "    </tr>\n",
              "    <tr>\n",
              "      <th>5103.51</th>\n",
              "      <th>Christine</th>\n",
              "      <th>F</th>\n",
              "      <td>0.0</td>\n",
              "      <td>43167.57</td>\n",
              "      <td>78</td>\n",
              "    </tr>\n",
              "    <tr>\n",
              "      <th>6107.23</th>\n",
              "      <th>Ronald</th>\n",
              "      <th>M</th>\n",
              "      <td>0.0</td>\n",
              "      <td>10753.02</td>\n",
              "      <td>25</td>\n",
              "    </tr>\n",
              "    <tr>\n",
              "      <th>7081.09</th>\n",
              "      <th>Michele</th>\n",
              "      <th>F</th>\n",
              "      <td>1.0</td>\n",
              "      <td>2063.14</td>\n",
              "      <td>30</td>\n",
              "    </tr>\n",
              "    <tr>\n",
              "      <th>8835.98</th>\n",
              "      <th>Tim</th>\n",
              "      <th>M</th>\n",
              "      <td>0.0</td>\n",
              "      <td>162944.60</td>\n",
              "      <td>80</td>\n",
              "    </tr>\n",
              "  </tbody>\n",
              "</table>\n",
              "<p>9396 rows × 3 columns</p>\n",
              "</div>"
            ],
            "text/plain": [
              "                                      card_present_flag    balance  age\n",
              "date       amount  first_name gender                                   \n",
              "2018-08-31 1.52    Edward     M                     0.0    5054.84   19\n",
              "           1.59    Diana      F                     1.0    1298.54   26\n",
              "           1.71    Jessica    F                     0.0    2070.40   21\n",
              "           1.90    Tonya      F                     1.0    2721.99   27\n",
              "           2.00    Diana      F                     1.0     536.62   26\n",
              "...                                                 ...        ...  ...\n",
              "2018-10-31 4910.90 Jacqueline F                     0.0    7397.59   30\n",
              "           5103.51 Christine  F                     0.0   43167.57   78\n",
              "           6107.23 Ronald     M                     0.0   10753.02   25\n",
              "           7081.09 Michele    F                     1.0    2063.14   30\n",
              "           8835.98 Tim        M                     0.0  162944.60   80\n",
              "\n",
              "[9396 rows x 3 columns]"
            ]
          },
          "metadata": {
            "tags": []
          },
          "execution_count": 4
        }
      ]
    },
    {
      "cell_type": "markdown",
      "metadata": {
        "id": "0f5QRAqTCj7o"
      },
      "source": [
        "Get a Series containing counts of unique values present in features like status, gender etc."
      ]
    },
    {
      "cell_type": "code",
      "metadata": {
        "colab": {
          "base_uri": "https://localhost:8080/"
        },
        "id": "Bn7nHurnCuyd",
        "outputId": "1ca5fb30-7c4d-4cb5-db54-7cacd8730bbc"
      },
      "source": [
        "f_data['status'].value_counts()"
      ],
      "execution_count": null,
      "outputs": [
        {
          "output_type": "execute_result",
          "data": {
            "text/plain": [
              "authorized    7717\n",
              "posted        4326\n",
              "Name: status, dtype: int64"
            ]
          },
          "metadata": {
            "tags": []
          },
          "execution_count": 28
        }
      ]
    },
    {
      "cell_type": "code",
      "metadata": {
        "colab": {
          "base_uri": "https://localhost:8080/"
        },
        "id": "PqmvgsBgCybt",
        "outputId": "9ba4935c-c5b5-4b22-fd71-d3147c54fcda"
      },
      "source": [
        "f_data['gender'].value_counts()"
      ],
      "execution_count": null,
      "outputs": [
        {
          "output_type": "execute_result",
          "data": {
            "text/plain": [
              "M    6285\n",
              "F    5758\n",
              "Name: gender, dtype: int64"
            ]
          },
          "metadata": {
            "tags": []
          },
          "execution_count": 29
        }
      ]
    },
    {
      "cell_type": "code",
      "metadata": {
        "colab": {
          "base_uri": "https://localhost:8080/"
        },
        "id": "M1zhQ99qC5ob",
        "outputId": "b4954d9c-769b-4eb1-e7ed-8f144b6fb74c"
      },
      "source": [
        "f_data['card_present_flag'].value_counts()"
      ],
      "execution_count": null,
      "outputs": [
        {
          "output_type": "execute_result",
          "data": {
            "text/plain": [
              "1.0    6194\n",
              "0.0    1523\n",
              "Name: card_present_flag, dtype: int64"
            ]
          },
          "metadata": {
            "tags": []
          },
          "execution_count": 31
        }
      ]
    },
    {
      "cell_type": "markdown",
      "metadata": {
        "id": "YRmjRM_ED1DH"
      },
      "source": [
        "Visualize the relationship between categorical variables with continuous variable using seabon catplot."
      ]
    },
    {
      "cell_type": "code",
      "metadata": {
        "colab": {
          "base_uri": "https://localhost:8080/",
          "height": 400
        },
        "id": "omDLllGx2ysg",
        "outputId": "f6f352b6-2ffc-4eff-dc20-c0d0d50ec935"
      },
      "source": [
        "sns.set_style('whitegrid')\r\n",
        "sns.catplot(x=\"gender\", y=\"balance\", order=[\"M\", \"F\"], data=f_data)"
      ],
      "execution_count": null,
      "outputs": [
        {
          "output_type": "execute_result",
          "data": {
            "text/plain": [
              "<seaborn.axisgrid.FacetGrid at 0x7f98002cecc0>"
            ]
          },
          "metadata": {
            "tags": []
          },
          "execution_count": 13
        },
        {
          "output_type": "display_data",
          "data": {
            "image/png": "[encoded data removed]",
            "text/plain": [
              "<Figure size 360x360 with 1 Axes>"
            ]
          },
          "metadata": {
            "tags": []
          }
        }
      ]
    },
    {
      "cell_type": "markdown",
      "metadata": {
        "id": "aBdP8VUgGMxi"
      },
      "source": [
        "Average amount of transction "
      ]
    },
    {
      "cell_type": "code",
      "metadata": {
        "colab": {
          "base_uri": "https://localhost:8080/"
        },
        "id": "Pgemwlpy8Vz3",
        "outputId": "2787ea0b-7b89-4bb6-a09d-7d839a370126"
      },
      "source": [
        "f_data['amount'].mean()"
      ],
      "execution_count": null,
      "outputs": [
        {
          "output_type": "execute_result",
          "data": {
            "text/plain": [
              "187.93358797641767"
            ]
          },
          "metadata": {
            "tags": []
          },
          "execution_count": 14
        }
      ]
    },
    {
      "cell_type": "markdown",
      "metadata": {
        "id": "H-ZCk63QGezK"
      },
      "source": [
        "Average balance present in dataframe."
      ]
    },
    {
      "cell_type": "code",
      "metadata": {
        "colab": {
          "base_uri": "https://localhost:8080/"
        },
        "id": "mCAZIxp--Hi2",
        "outputId": "0d4e1282-32f4-4dbe-ab00-4015d5eae9d2"
      },
      "source": [
        "f_data['balance'].mean()"
      ],
      "execution_count": null,
      "outputs": [
        {
          "output_type": "execute_result",
          "data": {
            "text/plain": [
              "14704.195553433592"
            ]
          },
          "metadata": {
            "tags": []
          },
          "execution_count": 15
        }
      ]
    },
    {
      "cell_type": "code",
      "metadata": {
        "colab": {
          "base_uri": "https://localhost:8080/",
          "height": 401
        },
        "id": "k1tQc2xn-L8h",
        "outputId": "d396d6fd-7da6-45ab-906a-be3ac3a094b6"
      },
      "source": [
        "sns.set_style('whitegrid')\r\n",
        "sns.catplot(x=\"card_present_flag\", y=\"balance\", hue='gender', data=f_data)"
      ],
      "execution_count": null,
      "outputs": [
        {
          "output_type": "execute_result",
          "data": {
            "text/plain": [
              "<seaborn.axisgrid.FacetGrid at 0x7f98003cd4a8>"
            ]
          },
          "metadata": {
            "tags": []
          },
          "execution_count": 16
        },
        {
          "output_type": "display_data",
          "data": {
            "image/png": "[encoded data removed]",
            "text/plain": [
              "<Figure size 404.625x360 with 1 Axes>"
            ]
          },
          "metadata": {
            "tags": []
          }
        }
      ]
    },
    {
      "cell_type": "markdown",
      "metadata": {
        "id": "pSp3LSJKGzGO"
      },
      "source": [
        " **distplot** plots a univariate distribution of observations of age features.\r\n",
        " **.hist** histrogram represtation of data present in the features in the dataframe."
      ]
    },
    {
      "cell_type": "code",
      "metadata": {
        "id": "cxj_r4HJ-p8N",
        "colab": {
          "base_uri": "https://localhost:8080/",
          "height": 350
        },
        "outputId": "8030f203-6b4d-4548-c18c-f2a629a1ae7a"
      },
      "source": [
        "sns.distplot(f_data['age'].dropna(),color='darkred',bins=40)"
      ],
      "execution_count": 5,
      "outputs": [
        {
          "output_type": "stream",
          "text": [
            "/usr/local/lib/python3.6/dist-packages/seaborn/distributions.py:2557: FutureWarning: `distplot` is a deprecated function and will be removed in a future version. Please adapt your code to use either `displot` (a figure-level function with similar flexibility) or `histplot` (an axes-level function for histograms).\n",
            "  warnings.warn(msg, FutureWarning)\n"
          ],
          "name": "stderr"
        },
        {
          "output_type": "execute_result",
          "data": {
            "text/plain": [
              "<matplotlib.axes._subplots.AxesSubplot at 0x7f8b9fbe64e0>"
            ]
          },
          "metadata": {
            "tags": []
          },
          "execution_count": 5
        },
        {
          "output_type": "display_data",
          "data": {
            "image/png": "[encoded data removed]",
            "text/plain": [
              "<Figure size 432x288 with 1 Axes>"
            ]
          },
          "metadata": {
            "tags": [],
            "needs_background": "light"
          }
        }
      ]
    },
    {
      "cell_type": "code",
      "metadata": {
        "colab": {
          "base_uri": "https://localhost:8080/",
          "height": 282
        },
        "id": "gzx_OOhO-vC9",
        "outputId": "0516ea05-31cc-44f3-92c8-f895ac667eea"
      },
      "source": [
        "f_data['age'].hist(bins=30,color='green',alpha=0.3)"
      ],
      "execution_count": null,
      "outputs": [
        {
          "output_type": "execute_result",
          "data": {
            "text/plain": [
              "<matplotlib.axes._subplots.AxesSubplot at 0x7f9800b19fd0>"
            ]
          },
          "metadata": {
            "tags": []
          },
          "execution_count": 22
        },
        {
          "output_type": "display_data",
          "data": {
            "image/png": "[encoded data removed]",
            "text/plain": [
              "<Figure size 432x288 with 1 Axes>"
            ]
          },
          "metadata": {
            "tags": []
          }
        }
      ]
    },
    {
      "cell_type": "markdown",
      "metadata": {
        "id": "sBR89gO5I5fD"
      },
      "source": [
        "Draw a plot of two variables continuous and dicreate with bivariate and univariate graphs."
      ]
    },
    {
      "cell_type": "code",
      "metadata": {
        "colab": {
          "base_uri": "https://localhost:8080/",
          "height": 458
        },
        "id": "cXAxJZwQBH_f",
        "outputId": "11342939-342b-4c95-ae90-54d33c0c6d2b"
      },
      "source": [
        "sns.jointplot(x='age',y='balance',data=f_data)"
      ],
      "execution_count": null,
      "outputs": [
        {
          "output_type": "execute_result",
          "data": {
            "text/plain": [
              "<seaborn.axisgrid.JointGrid at 0x7f97f76f1588>"
            ]
          },
          "metadata": {
            "tags": []
          },
          "execution_count": 32
        },
        {
          "output_type": "display_data",
          "data": {
            "image/png": "[encoded data removed]",
            "text/plain": [
              "<Figure size 432x432 with 3 Axes>"
            ]
          },
          "metadata": {
            "tags": []
          }
        }
      ]
    },
    {
      "cell_type": "markdown",
      "metadata": {
        "id": "0eORC6sHiMk-"
      },
      "source": [
        "seaborn heatmap of corealation between all features present in dataframe"
      ]
    },
    {
      "cell_type": "code",
      "metadata": {
        "colab": {
          "base_uri": "https://localhost:8080/",
          "height": 287
        },
        "id": "GAlD-MfAF0eD",
        "outputId": "ba20617c-9e64-47d8-bb4e-58abf678ada8"
      },
      "source": [
        " sns.heatmap(f_data.corr(), annot=True)"
      ],
      "execution_count": null,
      "outputs": [
        {
          "output_type": "execute_result",
          "data": {
            "text/plain": [
              "<matplotlib.axes._subplots.AxesSubplot at 0x7f97edfd9cc0>"
            ]
          },
          "metadata": {
            "tags": []
          },
          "execution_count": 45
        },
        {
          "output_type": "display_data",
          "data": {
            "image/png": "[encoded data removed]",
            "text/plain": [
              "<Figure size 432x288 with 2 Axes>"
            ]
          },
          "metadata": {
            "tags": [],
            "needs_background": "light"
          }
        }
      ]
    },
    {
      "cell_type": "markdown",
      "metadata": {
        "id": "yAexeMpfiZVn"
      },
      "source": [
        "Counting of transction of each month according to date with respect movement. & status of card. "
      ]
    },
    {
      "cell_type": "code",
      "metadata": {
        "id": "eMKJD5WYINvz"
      },
      "source": [
        "f_data['month'] = pd.DatetimeIndex(f_data['date']).month"
      ],
      "execution_count": null,
      "outputs": []
    },
    {
      "cell_type": "code",
      "metadata": {
        "id": "32CBz4S0GDDj",
        "colab": {
          "base_uri": "https://localhost:8080/",
          "height": 367
        },
        "outputId": "99eb2ed8-ef1d-4c33-9ab8-7f7c1c6dafb7"
      },
      "source": [
        "plt.figure(figsize=(15,5))\r\n",
        "plt.subplot(1,2,1)\r\n",
        "sns.set_style('whitegrid')\r\n",
        "sns.countplot(x='month',hue='movement',data=f_data)\r\n",
        "plt.title(' Debit and Credit transactions in each month')\r\n",
        "plt.subplot(1,2,2)\r\n",
        "sns.countplot(x='status',hue='movement',data=f_data)\r\n",
        "plt.title('status of card in counting of txn')"
      ],
      "execution_count": null,
      "outputs": [
        {
          "output_type": "execute_result",
          "data": {
            "text/plain": [
              "Text(0.5, 1.0, 'status of card in counting of txn')"
            ]
          },
          "metadata": {
            "tags": []
          },
          "execution_count": 58
        },
        {
          "output_type": "display_data",
          "data": {
            "image/png": "[encoded data removed]",
            "text/plain": [
              "<Figure size 1080x360 with 2 Axes>"
            ]
          },
          "metadata": {
            "tags": []
          }
        }
      ]
    },
    {
      "cell_type": "code",
      "metadata": {
        "id": "lRn2Dcx2d-Ga"
      },
      "source": [
        ""
      ],
      "execution_count": null,
      "outputs": []
    }
  ]
}